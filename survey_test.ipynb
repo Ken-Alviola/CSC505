{
 "cells": [
  {
   "cell_type": "code",
   "execution_count": 1,
   "metadata": {
    "ExecuteTime": {
     "end_time": "2022-06-11T23:55:46.320897Z",
     "start_time": "2022-06-11T23:55:46.312030Z"
    }
   },
   "outputs": [],
   "source": [
    "import survey"
   ]
  },
  {
   "cell_type": "code",
   "execution_count": 2,
   "metadata": {
    "ExecuteTime": {
     "end_time": "2022-06-11T23:56:40.811241Z",
     "start_time": "2022-06-11T23:56:25.187379Z"
    }
   },
   "outputs": [
    {
     "name": "stdout",
     "output_type": "stream",
     "text": [
      "These are Pressman & Maxim's (2020) 7 characteristics of a \"superprofessional\" developer: \n",
      "-----------------------------------\n",
      "1 Individual Responsibility\n",
      "2 Acute Awareness\n",
      "3 Brutal Honesty\n",
      "4 Resilience under pressure\n",
      "5 Sense of Fairness\n",
      "6 Attention to detail\n",
      "7 Pragmatism\n",
      "\n",
      "*Choose your top 3 characteristics: \n",
      "-----------------------------------\n",
      "Input the number of your 1st selection: 6\n",
      "Input the number of your 2nd selection: 1\n",
      "Input the number of your 3rd selection: 3\n",
      "\n",
      "You chose: Attention to detail, Individual Responsibility,and Brutal Honesty.\n",
      "\n",
      "Current Ranking:\n",
      "-----------------------------------\n",
      "1 Attention to detail : 5\n",
      "2 Brutal Honesty : 4\n",
      "3 Individual Responsibility : 3\n",
      "4 Sense of Fairness : 2\n",
      "5 Pragmatism : 2\n",
      "6 Acute Awareness : 1\n",
      "7 Resilience under pressure : 1\n",
      "\n"
     ]
    }
   ],
   "source": [
    "survey.survey()"
   ]
  },
  {
   "cell_type": "code",
   "execution_count": null,
   "metadata": {},
   "outputs": [],
   "source": []
  }
 ],
 "metadata": {
  "kernelspec": {
   "display_name": "Python 3",
   "language": "python",
   "name": "python3"
  },
  "language_info": {
   "codemirror_mode": {
    "name": "ipython",
    "version": 3
   },
   "file_extension": ".py",
   "mimetype": "text/x-python",
   "name": "python",
   "nbconvert_exporter": "python",
   "pygments_lexer": "ipython3",
   "version": "3.8.5"
  }
 },
 "nbformat": 4,
 "nbformat_minor": 4
}
