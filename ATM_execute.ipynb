{
 "cells": [
  {
   "cell_type": "code",
   "execution_count": 1,
   "metadata": {
    "ExecuteTime": {
     "end_time": "2022-07-03T08:16:51.661301Z",
     "start_time": "2022-07-03T08:16:51.652644Z"
    }
   },
   "outputs": [],
   "source": [
    "import ATM\n",
    "from ATM import pin, pin_counter, checking, authorized"
   ]
  },
  {
   "cell_type": "code",
   "execution_count": null,
   "metadata": {
    "ExecuteTime": {
     "start_time": "2022-07-03T08:17:12.987Z"
    }
   },
   "outputs": [
    {
     "name": "stdout",
     "output_type": "stream",
     "text": [
      "Reading card..........\n",
      "\n",
      "Welcome to NSolvent Bank\n",
      "------------------------\n",
      "Please enter your PIN: 3256\n",
      "Incorrect Pin\n",
      "\n",
      "Please enter your PIN: 54732\n",
      "Incorrect Pin\n",
      "\n"
     ]
    }
   ],
   "source": [
    "checking = ATM.run_atm(pin, authorized, pin_counter, checking)"
   ]
  },
  {
   "cell_type": "code",
   "execution_count": null,
   "metadata": {},
   "outputs": [],
   "source": []
  }
 ],
 "metadata": {
  "kernelspec": {
   "display_name": "Python 3",
   "language": "python",
   "name": "python3"
  },
  "language_info": {
   "codemirror_mode": {
    "name": "ipython",
    "version": 3
   },
   "file_extension": ".py",
   "mimetype": "text/x-python",
   "name": "python",
   "nbconvert_exporter": "python",
   "pygments_lexer": "ipython3",
   "version": "3.8.5"
  }
 },
 "nbformat": 4,
 "nbformat_minor": 4
}
