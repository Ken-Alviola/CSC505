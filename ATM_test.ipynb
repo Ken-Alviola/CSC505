{
 "cells": [
  {
   "cell_type": "code",
   "execution_count": 12,
   "metadata": {
    "ExecuteTime": {
     "end_time": "2022-07-03T07:38:04.321966Z",
     "start_time": "2022-07-03T07:38:04.315687Z"
    }
   },
   "outputs": [],
   "source": [
    "pin = 4550\n",
    "checking = 2500\n",
    "authorized = False\n",
    "pin_counter = 0"
   ]
  },
  {
   "cell_type": "code",
   "execution_count": 15,
   "metadata": {
    "ExecuteTime": {
     "end_time": "2022-07-03T07:38:35.176181Z",
     "start_time": "2022-07-03T07:38:35.168628Z"
    }
   },
   "outputs": [],
   "source": [
    "def read_pin(pin,authorized,pin_counter):\n",
    "    print('Reading card..........')\n",
    "    print()\n",
    "    print('Welcome to NSolvent Bank')\n",
    "    print('------------------------')\n",
    "    while authorized == False and pin_counter < 4:\n",
    "        pin_check = int(input('Please enter your PIN: '))\n",
    "        if pin_check == pin:\n",
    "            authorized = True\n",
    "        else:\n",
    "            print('Incorrect Pin')\n",
    "            print()\n",
    "            pin_counter += 1\n",
    "\n",
    "    if pin_counter >= 4:\n",
    "        print('Card Rejected')\n",
    "        print()\n",
    "    else:\n",
    "        return authorized\n",
    "        \n"
   ]
  },
  {
   "cell_type": "code",
   "execution_count": 17,
   "metadata": {
    "ExecuteTime": {
     "end_time": "2022-07-03T07:38:52.255684Z",
     "start_time": "2022-07-03T07:38:49.793466Z"
    }
   },
   "outputs": [
    {
     "name": "stdout",
     "output_type": "stream",
     "text": [
      "Reading card..........\n",
      "\n",
      "Welcome to NSolvent Bank\n",
      "------------------------\n",
      "Please enter your PIN: 4550\n"
     ]
    },
    {
     "data": {
      "text/plain": [
       "True"
      ]
     },
     "execution_count": 17,
     "metadata": {},
     "output_type": "execute_result"
    }
   ],
   "source": [
    "read_pin(pin,authorized,pin_counter)"
   ]
  },
  {
   "cell_type": "code",
   "execution_count": 31,
   "metadata": {
    "ExecuteTime": {
     "end_time": "2022-07-03T08:01:00.138268Z",
     "start_time": "2022-07-03T08:01:00.131197Z"
    }
   },
   "outputs": [],
   "source": [
    "def choose_transaction(checking):\n",
    "    selection = ''\n",
    "    while selection != 'q':\n",
    "        selection = input('Input 1 to check balance, 2 to withdraw cash, q to quit: ')\n",
    "        if selection == '1':\n",
    "            print(f'Checking balance: ${checking}')\n",
    "            print()\n",
    "        elif selection == '2' and checking > 0:\n",
    "            withdraw_amount = int(input('Type an amount to withdraw: '))\n",
    "            if withdraw_amount <= checking:\n",
    "                checking = checking - withdraw_amount\n",
    "                print(f'New balance: ${checking}')\n",
    "                print()\n",
    "            else:\n",
    "                print('Invalid withdrawal amount.')\n",
    "                print()\n",
    "        elif checking == 0:\n",
    "            print('Warning! Your account balance is 0 and will be closed in 14 days.')\n",
    "            print()\n",
    "        \n",
    "    print('Complete. Please take your card')\n",
    "    return checking"
   ]
  },
  {
   "cell_type": "code",
   "execution_count": 28,
   "metadata": {
    "ExecuteTime": {
     "end_time": "2022-07-03T07:54:35.266350Z",
     "start_time": "2022-07-03T07:54:04.759512Z"
    }
   },
   "outputs": [
    {
     "name": "stdout",
     "output_type": "stream",
     "text": [
      "Input 1 to check balance, 2 to withdraw cash, q to quit: 1\n",
      "Checking balance: $2500\n",
      "\n",
      "Input 1 to check balance, 2 to withdraw cash, q to quit: 2\n",
      "Type an amount to withdraw: 2600\n",
      "Invalid withdrawal amount.\n",
      "\n",
      "Input 1 to check balance, 2 to withdraw cash, q to quit: 1\n",
      "Checking balance: $2500\n",
      "\n",
      "Input 1 to check balance, 2 to withdraw cash, q to quit: 2\n",
      "Type an amount to withdraw: 2500\n",
      "Invalid withdrawal amount.\n",
      "\n",
      "Input 1 to check balance, 2 to withdraw cash, q to quit: q\n",
      "Complete. Please take your card\n"
     ]
    }
   ],
   "source": [
    "choose_transaction(checking)"
   ]
  },
  {
   "cell_type": "code",
   "execution_count": 32,
   "metadata": {
    "ExecuteTime": {
     "end_time": "2022-07-03T08:08:22.155573Z",
     "start_time": "2022-07-03T08:08:22.150372Z"
    }
   },
   "outputs": [],
   "source": [
    "def run_atm():\n",
    "    authorized = read_pin(pin,authorized,pin_counter)\n",
    "    if authorized == True:\n",
    "        checking = choose_transaction(checking)\n",
    "    else:\n",
    "        print('Card Rejected.')\n",
    "    return checking"
   ]
  },
  {
   "cell_type": "code",
   "execution_count": null,
   "metadata": {},
   "outputs": [],
   "source": []
  }
 ],
 "metadata": {
  "kernelspec": {
   "display_name": "Python 3",
   "language": "python",
   "name": "python3"
  },
  "language_info": {
   "codemirror_mode": {
    "name": "ipython",
    "version": 3
   },
   "file_extension": ".py",
   "mimetype": "text/x-python",
   "name": "python",
   "nbconvert_exporter": "python",
   "pygments_lexer": "ipython3",
   "version": "3.8.5"
  }
 },
 "nbformat": 4,
 "nbformat_minor": 4
}
