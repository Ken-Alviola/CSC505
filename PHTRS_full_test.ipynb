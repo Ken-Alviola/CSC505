{
 "cells": [
  {
   "cell_type": "code",
   "execution_count": 6,
   "metadata": {
    "ExecuteTime": {
     "end_time": "2022-06-26T04:05:12.674132Z",
     "start_time": "2022-06-26T04:05:12.658705Z"
    }
   },
   "outputs": [],
   "source": [
    "import pandas as pd "
   ]
  },
  {
   "cell_type": "code",
   "execution_count": 1,
   "metadata": {
    "ExecuteTime": {
     "end_time": "2022-06-23T05:36:20.362085Z",
     "start_time": "2022-06-23T05:36:20.355692Z"
    }
   },
   "outputs": [],
   "source": [
    "pothole_dict = {1: {'Street': 'Hummingbird Lane',\n",
    "                    'Zip': 78251,\n",
    "                    'Size': 7,\n",
    "                    'Location': 'Inner'\n",
    "                    },\n",
    "                2: {'Street': 'Marzano Street',\n",
    "                    'Zip': 78259,\n",
    "                    'Size': 2,\n",
    "                    'Location': 'Outer'}\n",
    "                }"
   ]
  },
  {
   "cell_type": "code",
   "execution_count": 2,
   "metadata": {
    "ExecuteTime": {
     "end_time": "2022-06-23T05:36:21.086061Z",
     "start_time": "2022-06-23T05:36:21.080269Z"
    }
   },
   "outputs": [],
   "source": [
    "def request_id():\n",
    "    print('Welcome to the Pothole Tracking and Repair System')\n",
    "    print('-------------------------------------------------')\n",
    "    pid = input('Please enter the ID number or press Enter to continue: ')\n",
    "    print()\n",
    "    if pid.isdigit() == True:\n",
    "        pid = int(pid)\n",
    "    else:\n",
    "        pid = register_new()\n",
    "    return pid"
   ]
  },
  {
   "cell_type": "code",
   "execution_count": 3,
   "metadata": {
    "ExecuteTime": {
     "end_time": "2022-06-23T05:36:21.726691Z",
     "start_time": "2022-06-23T05:36:21.720672Z"
    }
   },
   "outputs": [],
   "source": [
    "def register_new():\n",
    "    Street = input('Please enter the street: ')\n",
    "    Zip = int(input('Please enter the Zipcode: '))\n",
    "    Size = int(input('Enter the size of the pothole (1-10): '))\n",
    "    Location = input('Enter the location (Inner,Mid,Outer): ')\n",
    "    print()\n",
    "\n",
    "    new_id = len(pothole_dict) + 1\n",
    "    pothole_dict[new_id] = {'Street': Street,\n",
    "                            'Zip': Zip,\n",
    "                            'Size': Size,\n",
    "                            'Location': Location}\n",
    "    pid = new_id\n",
    "    return pid"
   ]
  },
  {
   "cell_type": "code",
   "execution_count": 39,
   "metadata": {
    "ExecuteTime": {
     "end_time": "2022-06-26T04:45:53.732713Z",
     "start_time": "2022-06-26T04:45:53.720205Z"
    }
   },
   "outputs": [],
   "source": [
    "def display_info(pid):\n",
    "    if pid in list(pothole_dict.keys()):\n",
    "        print('ID number:',pid)\n",
    "        for x in pothole_dict[pid]:\n",
    "            print(x, ':', pothole_dict[pid][x])\n",
    "\n",
    "    if pothole_dict[pid]['Zip'] <= 78255:\n",
    "        district = 1\n",
    "    else:\n",
    "        district = 2\n",
    "\n",
    "    if pothole_dict[pid]['Size'] >= 1 and pothole_dict[pid]['Size'] < 5:\n",
    "        priority = 'Low'\n",
    "    elif pothole_dict[pid]['Size'] >= 5 and pothole_dict[pid]['Size'] < 8:\n",
    "        priority = 'Medium'\n",
    "    elif pothole_dict[pid]['Size'] >= 8:\n",
    "        priority = 'High'\n",
    "    \n",
    "    print()\n",
    "    print(f'This falls under district: {district}')\n",
    "    print(f'Current priority is: {priority}')\n",
    "    "
   ]
  },
  {
   "cell_type": "code",
   "execution_count": 5,
   "metadata": {
    "ExecuteTime": {
     "end_time": "2022-06-23T05:36:23.067736Z",
     "start_time": "2022-06-23T05:36:23.061480Z"
    }
   },
   "outputs": [],
   "source": [
    "def run_phtrs():\n",
    "    pid = request_id()\n",
    "    display_info(pid)"
   ]
  },
  {
   "cell_type": "code",
   "execution_count": 19,
   "metadata": {
    "ExecuteTime": {
     "end_time": "2022-06-26T04:12:04.950598Z",
     "start_time": "2022-06-26T04:12:04.943508Z"
    }
   },
   "outputs": [],
   "source": [
    "damage_df = pd.DataFrame(columns=['Name','Address','Phone#','Type_of_Damage','Dollar_Amount'])"
   ]
  },
  {
   "cell_type": "code",
   "execution_count": 139,
   "metadata": {
    "ExecuteTime": {
     "end_time": "2022-06-26T07:03:47.827688Z",
     "start_time": "2022-06-26T07:03:47.820943Z"
    }
   },
   "outputs": [],
   "source": [
    "def welcome(damage_df):\n",
    "    print('Welcome to the PHTRS main page. Choose an option to continue')\n",
    "    print('---------------------------------------')\n",
    "    selection = ''\n",
    "    while selection != 'q':\n",
    "        print()\n",
    "        print('Type 1 to view or register a new repair.')\n",
    "        print('Type 2 to report damages')\n",
    "        print('Type 3 for admin functions')\n",
    "        print('Type q to exit')\n",
    "        selection = input('Your selection: ')\n",
    "        if selection == '1':\n",
    "            run_phtrs()\n",
    "        elif selection == '2':\n",
    "            damage_df = damage_report(damage_df)\n",
    "        elif selection == '3':\n",
    "            print()\n",
    "            admin(damage_df)\n",
    "    return damage_df\n",
    "        "
   ]
  },
  {
   "cell_type": "code",
   "execution_count": 141,
   "metadata": {
    "ExecuteTime": {
     "end_time": "2022-06-26T07:05:27.365932Z",
     "start_time": "2022-06-26T07:03:59.324250Z"
    }
   },
   "outputs": [
    {
     "name": "stdout",
     "output_type": "stream",
     "text": [
      "Welcome to the PHTRS main page. Choose an option to continue\n",
      "---------------------------------------\n",
      "\n",
      "Type 1 to view or register a new repair.\n",
      "Type 2 to report damages\n",
      "Type 3 for admin functions\n",
      "Type q to exit\n",
      "Your selection: 1\n",
      "Welcome to the Pothole Tracking and Repair System\n",
      "-------------------------------------------------\n",
      "Please enter the ID number or press Enter to continue: 2\n",
      "\n",
      "ID number: 2\n",
      "Street : Marzano Street\n",
      "Zip : 78259\n",
      "Size : 2\n",
      "Location : Outer\n",
      "\n",
      "This falls under district: 2\n",
      "Current priority is: Low\n",
      "\n",
      "Type 1 to view or register a new repair.\n",
      "Type 2 to report damages\n",
      "Type 3 for admin functions\n",
      "Type q to exit\n",
      "Your selection: 3\n",
      "\n",
      "Type 1 to check reported potholes, 2 for workorders, 3 for damage report, and q to quit: 1\n",
      "             Street    Zip Size Location\n",
      "1  Hummingbird Lane  78251    7    Inner\n",
      "2    Marzano Street  78259    2    Outer\n",
      "\n",
      "Enter the ID to check district and priority: 1\n",
      "ID number: 1\n",
      "Street : Hummingbird Lane\n",
      "Zip : 78251\n",
      "Size : 7\n",
      "Location : Inner\n",
      "\n",
      "This falls under district: 1\n",
      "Current priority is: Medium\n",
      "Type 1 to check reported potholes, 2 for workorders, 3 for damage report, and q to quit: 2\n",
      "\n",
      "   Pothole_ID Location  Size  Crew_ID  Crew_size  Repair_hours Repair_status  \\\n",
      "0           1    Inner     7        2          5             3  not repaired   \n",
      "1           2    Outer     2        1          3             2  not repaired   \n",
      "\n",
      "   Filler_amount(cu_ft)  Repair_cost  \n",
      "0                     5         2800  \n",
      "1                     3         1620  \n",
      "\n",
      "Would you like to change the status of a repair?:\n",
      "                (functionality will be added in a future update)\n",
      "Type 1 to check reported potholes, 2 for workorders, 3 for damage report, and q to quit: 3\n",
      "\n",
      "              Name               Address   Phone#             Type_of_Damage  \\\n",
      "0  Kenneth Alviola  2344 Race Lane 78245  8675309  vehicle suspension damage   \n",
      "\n",
      "  Dollar_Amount  \n",
      "0          1000  \n",
      "Type 1 to check reported potholes, 2 for workorders, 3 for damage report, and q to quit: q\n",
      "\n",
      "Type 1 to view or register a new repair.\n",
      "Type 2 to report damages\n",
      "Type 3 for admin functions\n",
      "Type q to exit\n",
      "Your selection: q\n"
     ]
    }
   ],
   "source": [
    "damage_df = welcome(damage_df)"
   ]
  },
  {
   "cell_type": "code",
   "execution_count": 34,
   "metadata": {
    "ExecuteTime": {
     "end_time": "2022-06-26T04:36:16.175732Z",
     "start_time": "2022-06-26T04:36:16.169817Z"
    }
   },
   "outputs": [],
   "source": [
    "def damage_report(damage_df):\n",
    "    name = input('Enter your first and last name: ')\n",
    "    address = input('Enter your street address and zipcode: ')\n",
    "    phone = input('Enter your phone number: ')\n",
    "    damage_type = input('Enter a brief description of the damage: ')\n",
    "    dollar_amount = input('Enter the approximate dollar amount: ')\n",
    "\n",
    "    damage_df = damage_df.append({'Name': name,\n",
    "                                  'Address': address,\n",
    "                                  'Phone#': phone,\n",
    "                                  'Type_of_Damage': damage_type,\n",
    "                                  'Dollar_Amount': dollar_amount},\n",
    "                                 ignore_index=True)\n",
    "\n",
    "    return damage_df"
   ]
  },
  {
   "cell_type": "code",
   "execution_count": 134,
   "metadata": {
    "ExecuteTime": {
     "end_time": "2022-06-26T07:01:48.769553Z",
     "start_time": "2022-06-26T07:01:48.759361Z"
    }
   },
   "outputs": [],
   "source": [
    "def admin(damage_df):\n",
    "    pothole_df = pd.DataFrame(pothole_dict).T\n",
    "    select = ''\n",
    "    while select != 'q':\n",
    "        select = input(\n",
    "            'Type 1 to check reported potholes, 2 for workorders, 3 for damage report, and q to quit: ')\n",
    "        if select == '1':\n",
    "\n",
    "            print(pothole_df)\n",
    "            print()\n",
    "            pid = int(input('Enter the ID to check district and priority: '))\n",
    "            display_info(pid)\n",
    "        elif select == '2':\n",
    "            workorder_df = workorder(pothole_df)\n",
    "            print()\n",
    "            print(workorder_df)\n",
    "            print()\n",
    "            change = input(\n",
    "                '''Would you like to change the status of a repair?:\n",
    "                (functionality will be added in a future update)''')\n",
    "        elif select == '3':\n",
    "            print()\n",
    "            print(damage_df)"
   ]
  },
  {
   "cell_type": "code",
   "execution_count": 61,
   "metadata": {
    "ExecuteTime": {
     "end_time": "2022-06-26T05:08:19.960345Z",
     "start_time": "2022-06-26T05:08:19.953032Z"
    }
   },
   "outputs": [],
   "source": [
    "workorder_df = pd.DataFrame(columns=['Pothole_ID',\n",
    "                                     'Location',\n",
    "                                     'Size',\n",
    "                                     'Crew_ID',\n",
    "                                     'Crew_size',\n",
    "                                     'Repair_hours',\n",
    "                                     'Repair_status',\n",
    "                                     'Filler_amount(cu_ft)',\n",
    "                                     'Repair_cost'])\n"
   ]
  },
  {
   "cell_type": "code",
   "execution_count": 84,
   "metadata": {
    "ExecuteTime": {
     "end_time": "2022-06-26T05:31:30.459352Z",
     "start_time": "2022-06-26T05:31:30.454140Z"
    }
   },
   "outputs": [],
   "source": [
    "def crew(size):\n",
    "    if size < 5:\n",
    "        return 1\n",
    "    elif size >= 5 and size < 8:\n",
    "        return 2\n",
    "    elif size >= 8:\n",
    "        return 3"
   ]
  },
  {
   "cell_type": "code",
   "execution_count": 89,
   "metadata": {
    "ExecuteTime": {
     "end_time": "2022-06-26T05:37:10.124243Z",
     "start_time": "2022-06-26T05:37:10.119366Z"
    }
   },
   "outputs": [],
   "source": [
    "def crewsize(crew_id):\n",
    "    if crew_id == 1:\n",
    "        return 3\n",
    "    elif crew_id == 2:\n",
    "        return 5\n",
    "    elif crew_id == 3:\n",
    "        return 7"
   ]
  },
  {
   "cell_type": "code",
   "execution_count": 93,
   "metadata": {
    "ExecuteTime": {
     "end_time": "2022-06-26T05:39:15.285082Z",
     "start_time": "2022-06-26T05:39:15.280066Z"
    }
   },
   "outputs": [],
   "source": [
    "def repair_hours(size):\n",
    "    if size < 5:\n",
    "        return 2\n",
    "    elif size >= 5 and size < 8:\n",
    "        return 3\n",
    "    elif size >= 8:\n",
    "        return 4"
   ]
  },
  {
   "cell_type": "code",
   "execution_count": 101,
   "metadata": {
    "ExecuteTime": {
     "end_time": "2022-06-26T05:46:17.573496Z",
     "start_time": "2022-06-26T05:46:17.568831Z"
    }
   },
   "outputs": [],
   "source": [
    "def filler_amount(size):\n",
    "    if size < 5:\n",
    "        return 3\n",
    "    elif size >= 5 and size < 8:\n",
    "        return 5\n",
    "    elif size >= 8:\n",
    "        return 7"
   ]
  },
  {
   "cell_type": "code",
   "execution_count": 115,
   "metadata": {
    "ExecuteTime": {
     "end_time": "2022-06-26T06:40:57.524985Z",
     "start_time": "2022-06-26T06:40:57.517591Z"
    }
   },
   "outputs": [],
   "source": [
    "def workorder(pothole_df):\n",
    "    workorder_df['Pothole_ID'] = pothole_df.index.tolist()\n",
    "    workorder_df['Location'] = pothole_df.Location.tolist()\n",
    "    workorder_df['Size'] = pothole_df.Size.tolist()\n",
    "    workorder_df['Crew_ID'] = workorder_df.Size.apply(lambda x: crew(x))\n",
    "    workorder_df['Crew_size'] = workorder_df.Crew_ID.apply(\n",
    "        lambda x: crewsize(x))\n",
    "    workorder_df['Repair_hours'] = workorder_df.Size.apply(\n",
    "        lambda x: repair_hours(x))\n",
    "    workorder_df['Repair_status'] = 'not repaired'\n",
    "    workorder_df['Filler_amount(cu_ft)'] = workorder_df.Size.apply(\n",
    "        lambda x: filler_amount(x))\n",
    "    workorder_df['Repair_cost'] = (workorder_df['Repair_hours'] * workorder_df['Crew_size']\n",
    "                                   * 20) + (workorder_df['Filler_amount(cu_ft)'] * 500)\n",
    "    \n",
    "    return workorder_df"
   ]
  },
  {
   "cell_type": "code",
   "execution_count": null,
   "metadata": {},
   "outputs": [],
   "source": []
  }
 ],
 "metadata": {
  "kernelspec": {
   "display_name": "Python 3",
   "language": "python",
   "name": "python3"
  },
  "language_info": {
   "codemirror_mode": {
    "name": "ipython",
    "version": 3
   },
   "file_extension": ".py",
   "mimetype": "text/x-python",
   "name": "python",
   "nbconvert_exporter": "python",
   "pygments_lexer": "ipython3",
   "version": "3.8.5"
  }
 },
 "nbformat": 4,
 "nbformat_minor": 4
}
