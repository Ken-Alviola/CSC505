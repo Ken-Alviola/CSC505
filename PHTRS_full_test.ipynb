{
 "cells": [
  {
   "cell_type": "code",
   "execution_count": 1,
   "metadata": {
    "ExecuteTime": {
     "end_time": "2022-06-23T05:36:20.362085Z",
     "start_time": "2022-06-23T05:36:20.355692Z"
    }
   },
   "outputs": [],
   "source": [
    "pothole_dict = {1: {'Street': 'Hummingbird Lane',\n",
    "                    'Zip': 78251,\n",
    "                    'Size': 7,\n",
    "                    'Location': 'Inner'\n",
    "                    },\n",
    "                2: {'Street': 'Marzano Street',\n",
    "                    'Zip': 78259,\n",
    "                    'Size': 2,\n",
    "                    'Location': 'Outer'}\n",
    "                }"
   ]
  },
  {
   "cell_type": "code",
   "execution_count": 2,
   "metadata": {
    "ExecuteTime": {
     "end_time": "2022-06-23T05:36:21.086061Z",
     "start_time": "2022-06-23T05:36:21.080269Z"
    }
   },
   "outputs": [],
   "source": [
    "def request_id():\n",
    "    print('Welcome to the Pothole Tracking and Repair System')\n",
    "    print('-------------------------------------------------')\n",
    "    pid = input('Please enter the ID number or press Enter to continue: ')\n",
    "    print()\n",
    "    if pid.isdigit() == True:\n",
    "        pid = int(pid)\n",
    "    else:\n",
    "        pid = register_new()\n",
    "    return pid"
   ]
  },
  {
   "cell_type": "code",
   "execution_count": 3,
   "metadata": {
    "ExecuteTime": {
     "end_time": "2022-06-23T05:36:21.726691Z",
     "start_time": "2022-06-23T05:36:21.720672Z"
    }
   },
   "outputs": [],
   "source": [
    "def register_new():\n",
    "    Street = input('Please enter the street: ')\n",
    "    Zip = int(input('Please enter the Zipcode: '))\n",
    "    Size = int(input('Enter the size of the pothole (1-10): '))\n",
    "    Location = input('Enter the location (Inner,Mid,Outer): ')\n",
    "    print()\n",
    "\n",
    "    new_id = len(pothole_dict) + 1\n",
    "    pothole_dict[new_id] = {'Street': Street,\n",
    "                            'Zip': Zip,\n",
    "                            'Size': Size,\n",
    "                            'Location': Location}\n",
    "    pid = new_id\n",
    "    return pid"
   ]
  },
  {
   "cell_type": "code",
   "execution_count": 4,
   "metadata": {
    "ExecuteTime": {
     "end_time": "2022-06-23T05:36:22.330923Z",
     "start_time": "2022-06-23T05:36:22.321313Z"
    }
   },
   "outputs": [],
   "source": [
    "def display_info(pid):\n",
    "    if pid in list(pothole_dict.keys()):\n",
    "        print('ID number:',pid)\n",
    "        for x in pothole_dict[pid]:\n",
    "            print(x, ':', pothole_dict[pid][x])\n",
    "\n",
    "    if pothole_dict[pid]['Zip'] <= 78255:\n",
    "        district = 1\n",
    "    else:\n",
    "        district = 2\n",
    "\n",
    "    if pothole_dict[pid]['Size'] >= 1 and pothole_dict[pid]['Size'] < 5:\n",
    "        priority = 'Low'\n",
    "    elif pothole_dict[pid]['Size'] >= 5 and pothole_dict[pid]['Size'] < 8:\n",
    "        priority = 'Medium'\n",
    "    elif pothole_dict[pid]['Size'] >= 8:\n",
    "        priority = 'High'\n",
    "    \n",
    "    print()\n",
    "    print(f'This falls under district: {district}')\n",
    "    print(f'Current priority is: {priority}')"
   ]
  },
  {
   "cell_type": "code",
   "execution_count": 5,
   "metadata": {
    "ExecuteTime": {
     "end_time": "2022-06-23T05:36:23.067736Z",
     "start_time": "2022-06-23T05:36:23.061480Z"
    }
   },
   "outputs": [],
   "source": [
    "def run_phtrs():\n",
    "    pid = request_id()\n",
    "    display_info(pid)"
   ]
  },
  {
   "cell_type": "code",
   "execution_count": null,
   "metadata": {},
   "outputs": [],
   "source": []
  }
 ],
 "metadata": {
  "kernelspec": {
   "display_name": "Python 3",
   "language": "python",
   "name": "python3"
  },
  "language_info": {
   "codemirror_mode": {
    "name": "ipython",
    "version": 3
   },
   "file_extension": ".py",
   "mimetype": "text/x-python",
   "name": "python",
   "nbconvert_exporter": "python",
   "pygments_lexer": "ipython3",
   "version": "3.8.5"
  }
 },
 "nbformat": 4,
 "nbformat_minor": 4
}
