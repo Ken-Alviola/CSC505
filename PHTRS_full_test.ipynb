{
 "cells": [
  {
   "cell_type": "code",
   "execution_count": 6,
   "metadata": {
    "ExecuteTime": {
     "end_time": "2022-06-26T04:05:12.674132Z",
     "start_time": "2022-06-26T04:05:12.658705Z"
    }
   },
   "outputs": [],
   "source": [
    "import pandas as pd "
   ]
  },
  {
   "cell_type": "code",
   "execution_count": 1,
   "metadata": {
    "ExecuteTime": {
     "end_time": "2022-06-23T05:36:20.362085Z",
     "start_time": "2022-06-23T05:36:20.355692Z"
    }
   },
   "outputs": [],
   "source": [
    "pothole_dict = {1: {'Street': 'Hummingbird Lane',\n",
    "                    'Zip': 78251,\n",
    "                    'Size': 7,\n",
    "                    'Location': 'Inner'\n",
    "                    },\n",
    "                2: {'Street': 'Marzano Street',\n",
    "                    'Zip': 78259,\n",
    "                    'Size': 2,\n",
    "                    'Location': 'Outer'}\n",
    "                }"
   ]
  },
  {
   "cell_type": "code",
   "execution_count": 2,
   "metadata": {
    "ExecuteTime": {
     "end_time": "2022-06-23T05:36:21.086061Z",
     "start_time": "2022-06-23T05:36:21.080269Z"
    }
   },
   "outputs": [],
   "source": [
    "def request_id():\n",
    "    print('Welcome to the Pothole Tracking and Repair System')\n",
    "    print('-------------------------------------------------')\n",
    "    pid = input('Please enter the ID number or press Enter to continue: ')\n",
    "    print()\n",
    "    if pid.isdigit() == True:\n",
    "        pid = int(pid)\n",
    "    else:\n",
    "        pid = register_new()\n",
    "    return pid"
   ]
  },
  {
   "cell_type": "code",
   "execution_count": 3,
   "metadata": {
    "ExecuteTime": {
     "end_time": "2022-06-23T05:36:21.726691Z",
     "start_time": "2022-06-23T05:36:21.720672Z"
    }
   },
   "outputs": [],
   "source": [
    "def register_new():\n",
    "    Street = input('Please enter the street: ')\n",
    "    Zip = int(input('Please enter the Zipcode: '))\n",
    "    Size = int(input('Enter the size of the pothole (1-10): '))\n",
    "    Location = input('Enter the location (Inner,Mid,Outer): ')\n",
    "    print()\n",
    "\n",
    "    new_id = len(pothole_dict) + 1\n",
    "    pothole_dict[new_id] = {'Street': Street,\n",
    "                            'Zip': Zip,\n",
    "                            'Size': Size,\n",
    "                            'Location': Location}\n",
    "    pid = new_id\n",
    "    return pid"
   ]
  },
  {
   "cell_type": "code",
   "execution_count": 39,
   "metadata": {
    "ExecuteTime": {
     "end_time": "2022-06-26T04:45:53.732713Z",
     "start_time": "2022-06-26T04:45:53.720205Z"
    }
   },
   "outputs": [],
   "source": [
    "def display_info(pid):\n",
    "    if pid in list(pothole_dict.keys()):\n",
    "        print('ID number:',pid)\n",
    "        for x in pothole_dict[pid]:\n",
    "            print(x, ':', pothole_dict[pid][x])\n",
    "\n",
    "    if pothole_dict[pid]['Zip'] <= 78255:\n",
    "        district = 1\n",
    "    else:\n",
    "        district = 2\n",
    "\n",
    "    if pothole_dict[pid]['Size'] >= 1 and pothole_dict[pid]['Size'] < 5:\n",
    "        priority = 'Low'\n",
    "    elif pothole_dict[pid]['Size'] >= 5 and pothole_dict[pid]['Size'] < 8:\n",
    "        priority = 'Medium'\n",
    "    elif pothole_dict[pid]['Size'] >= 8:\n",
    "        priority = 'High'\n",
    "    \n",
    "    print()\n",
    "    print(f'This falls under district: {district}')\n",
    "    print(f'Current priority is: {priority}')\n",
    "    return district, priority"
   ]
  },
  {
   "cell_type": "code",
   "execution_count": 5,
   "metadata": {
    "ExecuteTime": {
     "end_time": "2022-06-23T05:36:23.067736Z",
     "start_time": "2022-06-23T05:36:23.061480Z"
    }
   },
   "outputs": [],
   "source": [
    "def run_phtrs():\n",
    "    pid = request_id()\n",
    "    display_info(pid)"
   ]
  },
  {
   "cell_type": "code",
   "execution_count": 19,
   "metadata": {
    "ExecuteTime": {
     "end_time": "2022-06-26T04:12:04.950598Z",
     "start_time": "2022-06-26T04:12:04.943508Z"
    }
   },
   "outputs": [],
   "source": [
    "damage_df = pd.DataFrame(columns=['Name','Address','Phone#','Type_of_Damage','Dollar_Amount'])"
   ]
  },
  {
   "cell_type": "code",
   "execution_count": 18,
   "metadata": {
    "ExecuteTime": {
     "end_time": "2022-06-26T04:11:38.639303Z",
     "start_time": "2022-06-26T04:11:38.625705Z"
    }
   },
   "outputs": [
    {
     "data": {
      "text/html": [
       "<div>\n",
       "<style scoped>\n",
       "    .dataframe tbody tr th:only-of-type {\n",
       "        vertical-align: middle;\n",
       "    }\n",
       "\n",
       "    .dataframe tbody tr th {\n",
       "        vertical-align: top;\n",
       "    }\n",
       "\n",
       "    .dataframe thead th {\n",
       "        text-align: right;\n",
       "    }\n",
       "</style>\n",
       "<table border=\"1\" class=\"dataframe\">\n",
       "  <thead>\n",
       "    <tr style=\"text-align: right;\">\n",
       "      <th></th>\n",
       "      <th>Name</th>\n",
       "      <th>Address</th>\n",
       "      <th>Phone#</th>\n",
       "      <th>Type_of_Damage</th>\n",
       "      <th>Dollar_Amount</th>\n",
       "    </tr>\n",
       "  </thead>\n",
       "  <tbody>\n",
       "  </tbody>\n",
       "</table>\n",
       "</div>"
      ],
      "text/plain": [
       "Empty DataFrame\n",
       "Columns: [Name, Address, Phone#, Type_of_Damage, Dollar_Amount]\n",
       "Index: []"
      ]
     },
     "execution_count": 18,
     "metadata": {},
     "output_type": "execute_result"
    }
   ],
   "source": [
    "damage_df"
   ]
  },
  {
   "cell_type": "code",
   "execution_count": 27,
   "metadata": {
    "ExecuteTime": {
     "end_time": "2022-06-26T04:24:16.731007Z",
     "start_time": "2022-06-26T04:24:16.725552Z"
    }
   },
   "outputs": [],
   "source": [
    "def welcome():\n",
    "    print('Welcome to the PHTRS main page. Choose an option to continue')\n",
    "    print('---------------------------------------')\n",
    "    selection = ''\n",
    "    while selection != 'q':\n",
    "        print('Type 1 to view or register a new repair.')\n",
    "        print('Type 2 to report damages')\n",
    "        print('Type 3 for admin functions')\n",
    "        print('Type q to exit\\n')\n",
    "        selection = input()\n",
    "        if selection == '1':\n",
    "            run_phtrs()\n",
    "        \n",
    "        "
   ]
  },
  {
   "cell_type": "code",
   "execution_count": 34,
   "metadata": {
    "ExecuteTime": {
     "end_time": "2022-06-26T04:36:16.175732Z",
     "start_time": "2022-06-26T04:36:16.169817Z"
    }
   },
   "outputs": [],
   "source": [
    "def damage_report(damage_df):\n",
    "    name = input('Enter your first and last name: ')\n",
    "    address = input('Enter your street address and zipcode: ')\n",
    "    phone = input('Enter your phone number: ')\n",
    "    damage_type = input('Enter a brief description of the damage: ')\n",
    "    dollar_amount = input('Enter the approximate dollar amount: ')\n",
    "\n",
    "    damage_df = damage_df.append({'Name': name,\n",
    "                                  'Address': address,\n",
    "                                  'Phone#': phone,\n",
    "                                  'Type_of_Damage': damage_type,\n",
    "                                  'Dollar_Amount': dollar_amount},\n",
    "                                 ignore_index=True)\n",
    "\n",
    "    return damage_df"
   ]
  },
  {
   "cell_type": "code",
   "execution_count": 35,
   "metadata": {
    "ExecuteTime": {
     "end_time": "2022-06-26T04:36:50.302225Z",
     "start_time": "2022-06-26T04:36:19.045221Z"
    }
   },
   "outputs": [
    {
     "name": "stdout",
     "output_type": "stream",
     "text": [
      "Enter your first and last name: Kenneth Alviola\n",
      "Enter your street address and zipcode: 4534 Deer ln 78245\n",
      "Enter your phone number: 8675309\n",
      "Enter a brief description of the damage: suspension damage\n",
      "Enter the approximate dollar amount: 1000\n"
     ]
    },
    {
     "data": {
      "text/html": [
       "<div>\n",
       "<style scoped>\n",
       "    .dataframe tbody tr th:only-of-type {\n",
       "        vertical-align: middle;\n",
       "    }\n",
       "\n",
       "    .dataframe tbody tr th {\n",
       "        vertical-align: top;\n",
       "    }\n",
       "\n",
       "    .dataframe thead th {\n",
       "        text-align: right;\n",
       "    }\n",
       "</style>\n",
       "<table border=\"1\" class=\"dataframe\">\n",
       "  <thead>\n",
       "    <tr style=\"text-align: right;\">\n",
       "      <th></th>\n",
       "      <th>Name</th>\n",
       "      <th>Address</th>\n",
       "      <th>Phone#</th>\n",
       "      <th>Type_of_Damage</th>\n",
       "      <th>Dollar_Amount</th>\n",
       "    </tr>\n",
       "  </thead>\n",
       "  <tbody>\n",
       "    <tr>\n",
       "      <th>0</th>\n",
       "      <td>Kenneth Alviola</td>\n",
       "      <td>4534 Deer ln 78245</td>\n",
       "      <td>8675309</td>\n",
       "      <td>suspension damage</td>\n",
       "      <td>1000</td>\n",
       "    </tr>\n",
       "  </tbody>\n",
       "</table>\n",
       "</div>"
      ],
      "text/plain": [
       "              Name             Address   Phone#     Type_of_Damage  \\\n",
       "0  Kenneth Alviola  4534 Deer ln 78245  8675309  suspension damage   \n",
       "\n",
       "  Dollar_Amount  \n",
       "0          1000  "
      ]
     },
     "execution_count": 35,
     "metadata": {},
     "output_type": "execute_result"
    }
   ],
   "source": [
    "damage_report(damage_df)"
   ]
  },
  {
   "cell_type": "code",
   "execution_count": 36,
   "metadata": {
    "ExecuteTime": {
     "end_time": "2022-06-26T04:37:00.622881Z",
     "start_time": "2022-06-26T04:37:00.613286Z"
    }
   },
   "outputs": [
    {
     "data": {
      "text/html": [
       "<div>\n",
       "<style scoped>\n",
       "    .dataframe tbody tr th:only-of-type {\n",
       "        vertical-align: middle;\n",
       "    }\n",
       "\n",
       "    .dataframe tbody tr th {\n",
       "        vertical-align: top;\n",
       "    }\n",
       "\n",
       "    .dataframe thead th {\n",
       "        text-align: right;\n",
       "    }\n",
       "</style>\n",
       "<table border=\"1\" class=\"dataframe\">\n",
       "  <thead>\n",
       "    <tr style=\"text-align: right;\">\n",
       "      <th></th>\n",
       "      <th>Name</th>\n",
       "      <th>Address</th>\n",
       "      <th>Phone#</th>\n",
       "      <th>Type_of_Damage</th>\n",
       "      <th>Dollar_Amount</th>\n",
       "    </tr>\n",
       "  </thead>\n",
       "  <tbody>\n",
       "  </tbody>\n",
       "</table>\n",
       "</div>"
      ],
      "text/plain": [
       "Empty DataFrame\n",
       "Columns: [Name, Address, Phone#, Type_of_Damage, Dollar_Amount]\n",
       "Index: []"
      ]
     },
     "execution_count": 36,
     "metadata": {},
     "output_type": "execute_result"
    }
   ],
   "source": [
    "damage_df"
   ]
  },
  {
   "cell_type": "code",
   "execution_count": 58,
   "metadata": {
    "ExecuteTime": {
     "end_time": "2022-06-26T05:00:41.618388Z",
     "start_time": "2022-06-26T05:00:41.612130Z"
    }
   },
   "outputs": [],
   "source": [
    "def admin():\n",
    "    select = ''\n",
    "    while select != 'q':\n",
    "        select = input('Type 1 to check reported potholes, 2 for workorders, 3 for damage report, and q to quit: ')\n",
    "        if select == '1':\n",
    "            pothole_df = pd.DataFrame(pothole_dict).T\n",
    "            print(pothole_df)\n",
    "            print()\n",
    "            pid = int(input('Enter the ID to check district and priority: '))\n",
    "            display_info(pid)\n",
    "        elif select == '2':\n",
    "            workorder()\n",
    "        elif select == '3':\n",
    "            print(damage_df)\n",
    "    "
   ]
  },
  {
   "cell_type": "code",
   "execution_count": 57,
   "metadata": {
    "ExecuteTime": {
     "end_time": "2022-06-26T05:00:32.739897Z",
     "start_time": "2022-06-26T05:00:01.181772Z"
    }
   },
   "outputs": [
    {
     "name": "stdout",
     "output_type": "stream",
     "text": [
      "Type 1 to check reported potholes, 2 for workorders, 3 for damage report: 1\n",
      "             Street    Zip Size Location\n",
      "1  Hummingbird Lane  78251    7    Inner\n",
      "2    Marzano Street  78259    2    Outer\n",
      "\n",
      "Enter the ID to check district and priority: 2\n",
      "ID number: 2\n",
      "Street : Marzano Street\n",
      "Zip : 78259\n",
      "Size : 2\n",
      "Location : Outer\n",
      "\n",
      "This falls under district: 2\n",
      "Current priority is: Low\n",
      "Type 1 to check reported potholes, 2 for workorders, 3 for damage report: 3\n",
      "Empty DataFrame\n",
      "Columns: [Name, Address, Phone#, Type_of_Damage, Dollar_Amount]\n",
      "Index: []\n",
      "Type 1 to check reported potholes, 2 for workorders, 3 for damage report: q\n"
     ]
    }
   ],
   "source": [
    "admin()"
   ]
  },
  {
   "cell_type": "code",
   "execution_count": 59,
   "metadata": {
    "ExecuteTime": {
     "end_time": "2022-06-26T05:00:46.918575Z",
     "start_time": "2022-06-26T05:00:46.908750Z"
    }
   },
   "outputs": [
    {
     "data": {
      "text/html": [
       "<div>\n",
       "<style scoped>\n",
       "    .dataframe tbody tr th:only-of-type {\n",
       "        vertical-align: middle;\n",
       "    }\n",
       "\n",
       "    .dataframe tbody tr th {\n",
       "        vertical-align: top;\n",
       "    }\n",
       "\n",
       "    .dataframe thead th {\n",
       "        text-align: right;\n",
       "    }\n",
       "</style>\n",
       "<table border=\"1\" class=\"dataframe\">\n",
       "  <thead>\n",
       "    <tr style=\"text-align: right;\">\n",
       "      <th></th>\n",
       "      <th>Name</th>\n",
       "      <th>Address</th>\n",
       "      <th>Phone#</th>\n",
       "      <th>Type_of_Damage</th>\n",
       "      <th>Dollar_Amount</th>\n",
       "    </tr>\n",
       "  </thead>\n",
       "  <tbody>\n",
       "  </tbody>\n",
       "</table>\n",
       "</div>"
      ],
      "text/plain": [
       "Empty DataFrame\n",
       "Columns: [Name, Address, Phone#, Type_of_Damage, Dollar_Amount]\n",
       "Index: []"
      ]
     },
     "execution_count": 59,
     "metadata": {},
     "output_type": "execute_result"
    }
   ],
   "source": [
    "damage_df"
   ]
  },
  {
   "cell_type": "code",
   "execution_count": 61,
   "metadata": {
    "ExecuteTime": {
     "end_time": "2022-06-26T05:08:19.960345Z",
     "start_time": "2022-06-26T05:08:19.953032Z"
    }
   },
   "outputs": [],
   "source": [
    "workorder_df = pd.DataFrame(columns=['Pothole_ID',\n",
    "                                     'Location',\n",
    "                                     'Size',\n",
    "                                     'Crew_ID',\n",
    "                                     'Crew_size',\n",
    "                                     'Repair_hours',\n",
    "                                     'Repair_status',\n",
    "                                     'Filler_amount(cu_ft)',\n",
    "                                     'Repair_cost'])\n"
   ]
  },
  {
   "cell_type": "code",
   "execution_count": 62,
   "metadata": {
    "ExecuteTime": {
     "end_time": "2022-06-26T05:08:25.337605Z",
     "start_time": "2022-06-26T05:08:25.322966Z"
    }
   },
   "outputs": [
    {
     "data": {
      "text/html": [
       "<div>\n",
       "<style scoped>\n",
       "    .dataframe tbody tr th:only-of-type {\n",
       "        vertical-align: middle;\n",
       "    }\n",
       "\n",
       "    .dataframe tbody tr th {\n",
       "        vertical-align: top;\n",
       "    }\n",
       "\n",
       "    .dataframe thead th {\n",
       "        text-align: right;\n",
       "    }\n",
       "</style>\n",
       "<table border=\"1\" class=\"dataframe\">\n",
       "  <thead>\n",
       "    <tr style=\"text-align: right;\">\n",
       "      <th></th>\n",
       "      <th>Pothole_ID</th>\n",
       "      <th>Location</th>\n",
       "      <th>Size</th>\n",
       "      <th>Crew_ID</th>\n",
       "      <th>Crew_size</th>\n",
       "      <th>Repair_hours</th>\n",
       "      <th>Repair_status</th>\n",
       "      <th>Filler_amount(cu_ft)</th>\n",
       "      <th>Repair_cost</th>\n",
       "    </tr>\n",
       "  </thead>\n",
       "  <tbody>\n",
       "  </tbody>\n",
       "</table>\n",
       "</div>"
      ],
      "text/plain": [
       "Empty DataFrame\n",
       "Columns: [Pothole_ID, Location, Size, Crew_ID, Crew_size, Repair_hours, Repair_status, Filler_amount(cu_ft), Repair_cost]\n",
       "Index: []"
      ]
     },
     "execution_count": 62,
     "metadata": {},
     "output_type": "execute_result"
    }
   ],
   "source": [
    "workorder_df"
   ]
  },
  {
   "cell_type": "code",
   "execution_count": 63,
   "metadata": {
    "ExecuteTime": {
     "end_time": "2022-06-26T05:12:05.493734Z",
     "start_time": "2022-06-26T05:12:05.480536Z"
    }
   },
   "outputs": [
    {
     "data": {
      "text/html": [
       "<div>\n",
       "<style scoped>\n",
       "    .dataframe tbody tr th:only-of-type {\n",
       "        vertical-align: middle;\n",
       "    }\n",
       "\n",
       "    .dataframe tbody tr th {\n",
       "        vertical-align: top;\n",
       "    }\n",
       "\n",
       "    .dataframe thead th {\n",
       "        text-align: right;\n",
       "    }\n",
       "</style>\n",
       "<table border=\"1\" class=\"dataframe\">\n",
       "  <thead>\n",
       "    <tr style=\"text-align: right;\">\n",
       "      <th></th>\n",
       "      <th>Street</th>\n",
       "      <th>Zip</th>\n",
       "      <th>Size</th>\n",
       "      <th>Location</th>\n",
       "    </tr>\n",
       "  </thead>\n",
       "  <tbody>\n",
       "    <tr>\n",
       "      <th>1</th>\n",
       "      <td>Hummingbird Lane</td>\n",
       "      <td>78251</td>\n",
       "      <td>7</td>\n",
       "      <td>Inner</td>\n",
       "    </tr>\n",
       "    <tr>\n",
       "      <th>2</th>\n",
       "      <td>Marzano Street</td>\n",
       "      <td>78259</td>\n",
       "      <td>2</td>\n",
       "      <td>Outer</td>\n",
       "    </tr>\n",
       "  </tbody>\n",
       "</table>\n",
       "</div>"
      ],
      "text/plain": [
       "             Street    Zip Size Location\n",
       "1  Hummingbird Lane  78251    7    Inner\n",
       "2    Marzano Street  78259    2    Outer"
      ]
     },
     "execution_count": 63,
     "metadata": {},
     "output_type": "execute_result"
    }
   ],
   "source": [
    "pothole_df"
   ]
  },
  {
   "cell_type": "code",
   "execution_count": 67,
   "metadata": {
    "ExecuteTime": {
     "end_time": "2022-06-26T05:15:13.977574Z",
     "start_time": "2022-06-26T05:15:13.964142Z"
    }
   },
   "outputs": [],
   "source": [
    "workorder_df['Pothole_ID'] = pothole_df.index.tolist()"
   ]
  },
  {
   "cell_type": "code",
   "execution_count": 74,
   "metadata": {
    "ExecuteTime": {
     "end_time": "2022-06-26T05:18:49.148609Z",
     "start_time": "2022-06-26T05:18:49.142351Z"
    }
   },
   "outputs": [],
   "source": [
    "workorder_df['Location'] = pothole_df.Location.tolist()\n",
    "workorder_df['Size'] = pothole_df.Size.tolist()"
   ]
  },
  {
   "cell_type": "code",
   "execution_count": 75,
   "metadata": {
    "ExecuteTime": {
     "end_time": "2022-06-26T05:18:49.781421Z",
     "start_time": "2022-06-26T05:18:49.757343Z"
    }
   },
   "outputs": [
    {
     "data": {
      "text/html": [
       "<div>\n",
       "<style scoped>\n",
       "    .dataframe tbody tr th:only-of-type {\n",
       "        vertical-align: middle;\n",
       "    }\n",
       "\n",
       "    .dataframe tbody tr th {\n",
       "        vertical-align: top;\n",
       "    }\n",
       "\n",
       "    .dataframe thead th {\n",
       "        text-align: right;\n",
       "    }\n",
       "</style>\n",
       "<table border=\"1\" class=\"dataframe\">\n",
       "  <thead>\n",
       "    <tr style=\"text-align: right;\">\n",
       "      <th></th>\n",
       "      <th>Pothole_ID</th>\n",
       "      <th>Location</th>\n",
       "      <th>Size</th>\n",
       "      <th>Crew_ID</th>\n",
       "      <th>Crew_size</th>\n",
       "      <th>Repair_hours</th>\n",
       "      <th>Repair_status</th>\n",
       "      <th>Filler_amount(cu_ft)</th>\n",
       "      <th>Repair_cost</th>\n",
       "    </tr>\n",
       "  </thead>\n",
       "  <tbody>\n",
       "    <tr>\n",
       "      <th>0</th>\n",
       "      <td>1</td>\n",
       "      <td>Inner</td>\n",
       "      <td>7</td>\n",
       "      <td>NaN</td>\n",
       "      <td>NaN</td>\n",
       "      <td>NaN</td>\n",
       "      <td>NaN</td>\n",
       "      <td>NaN</td>\n",
       "      <td>NaN</td>\n",
       "    </tr>\n",
       "    <tr>\n",
       "      <th>1</th>\n",
       "      <td>2</td>\n",
       "      <td>Outer</td>\n",
       "      <td>2</td>\n",
       "      <td>NaN</td>\n",
       "      <td>NaN</td>\n",
       "      <td>NaN</td>\n",
       "      <td>NaN</td>\n",
       "      <td>NaN</td>\n",
       "      <td>NaN</td>\n",
       "    </tr>\n",
       "  </tbody>\n",
       "</table>\n",
       "</div>"
      ],
      "text/plain": [
       "   Pothole_ID Location  Size Crew_ID Crew_size Repair_hours Repair_status  \\\n",
       "0           1    Inner     7     NaN       NaN          NaN           NaN   \n",
       "1           2    Outer     2     NaN       NaN          NaN           NaN   \n",
       "\n",
       "  Filler_amount(cu_ft) Repair_cost  \n",
       "0                  NaN         NaN  \n",
       "1                  NaN         NaN  "
      ]
     },
     "execution_count": 75,
     "metadata": {},
     "output_type": "execute_result"
    }
   ],
   "source": [
    "workorder_df"
   ]
  },
  {
   "cell_type": "code",
   "execution_count": 84,
   "metadata": {
    "ExecuteTime": {
     "end_time": "2022-06-26T05:31:30.459352Z",
     "start_time": "2022-06-26T05:31:30.454140Z"
    }
   },
   "outputs": [],
   "source": [
    "def crew(size):\n",
    "    if size < 5:\n",
    "        return 1\n",
    "    elif size >= 5 and size < 8:\n",
    "        return 2\n",
    "    elif size >= 8:\n",
    "        return 3"
   ]
  },
  {
   "cell_type": "code",
   "execution_count": 87,
   "metadata": {
    "ExecuteTime": {
     "end_time": "2022-06-26T05:32:48.787369Z",
     "start_time": "2022-06-26T05:32:48.781433Z"
    }
   },
   "outputs": [],
   "source": [
    "workorder_df['Crew_ID'] = workorder_df.Size.apply(lambda x: crew(x))"
   ]
  },
  {
   "cell_type": "code",
   "execution_count": 88,
   "metadata": {
    "ExecuteTime": {
     "end_time": "2022-06-26T05:32:53.410385Z",
     "start_time": "2022-06-26T05:32:53.394054Z"
    }
   },
   "outputs": [
    {
     "data": {
      "text/html": [
       "<div>\n",
       "<style scoped>\n",
       "    .dataframe tbody tr th:only-of-type {\n",
       "        vertical-align: middle;\n",
       "    }\n",
       "\n",
       "    .dataframe tbody tr th {\n",
       "        vertical-align: top;\n",
       "    }\n",
       "\n",
       "    .dataframe thead th {\n",
       "        text-align: right;\n",
       "    }\n",
       "</style>\n",
       "<table border=\"1\" class=\"dataframe\">\n",
       "  <thead>\n",
       "    <tr style=\"text-align: right;\">\n",
       "      <th></th>\n",
       "      <th>Pothole_ID</th>\n",
       "      <th>Location</th>\n",
       "      <th>Size</th>\n",
       "      <th>Crew_ID</th>\n",
       "      <th>Crew_size</th>\n",
       "      <th>Repair_hours</th>\n",
       "      <th>Repair_status</th>\n",
       "      <th>Filler_amount(cu_ft)</th>\n",
       "      <th>Repair_cost</th>\n",
       "    </tr>\n",
       "  </thead>\n",
       "  <tbody>\n",
       "    <tr>\n",
       "      <th>0</th>\n",
       "      <td>1</td>\n",
       "      <td>Inner</td>\n",
       "      <td>7</td>\n",
       "      <td>2</td>\n",
       "      <td>NaN</td>\n",
       "      <td>NaN</td>\n",
       "      <td>NaN</td>\n",
       "      <td>NaN</td>\n",
       "      <td>NaN</td>\n",
       "    </tr>\n",
       "    <tr>\n",
       "      <th>1</th>\n",
       "      <td>2</td>\n",
       "      <td>Outer</td>\n",
       "      <td>2</td>\n",
       "      <td>1</td>\n",
       "      <td>NaN</td>\n",
       "      <td>NaN</td>\n",
       "      <td>NaN</td>\n",
       "      <td>NaN</td>\n",
       "      <td>NaN</td>\n",
       "    </tr>\n",
       "  </tbody>\n",
       "</table>\n",
       "</div>"
      ],
      "text/plain": [
       "   Pothole_ID Location  Size  Crew_ID Crew_size Repair_hours Repair_status  \\\n",
       "0           1    Inner     7        2       NaN          NaN           NaN   \n",
       "1           2    Outer     2        1       NaN          NaN           NaN   \n",
       "\n",
       "  Filler_amount(cu_ft) Repair_cost  \n",
       "0                  NaN         NaN  \n",
       "1                  NaN         NaN  "
      ]
     },
     "execution_count": 88,
     "metadata": {},
     "output_type": "execute_result"
    }
   ],
   "source": [
    "workorder_df"
   ]
  },
  {
   "cell_type": "code",
   "execution_count": 89,
   "metadata": {
    "ExecuteTime": {
     "end_time": "2022-06-26T05:37:10.124243Z",
     "start_time": "2022-06-26T05:37:10.119366Z"
    }
   },
   "outputs": [],
   "source": [
    "def crewsize(crew_id):\n",
    "    if crew_id == 1:\n",
    "        return 3\n",
    "    elif crew_id == 2:\n",
    "        return 5\n",
    "    elif crew_id == 3:\n",
    "        return 7"
   ]
  },
  {
   "cell_type": "code",
   "execution_count": 90,
   "metadata": {
    "ExecuteTime": {
     "end_time": "2022-06-26T05:37:40.973436Z",
     "start_time": "2022-06-26T05:37:40.968199Z"
    }
   },
   "outputs": [],
   "source": [
    "workorder_df['Crew_size'] = workorder_df.Crew_ID.apply(lambda x: crewsize(x))"
   ]
  },
  {
   "cell_type": "code",
   "execution_count": 92,
   "metadata": {
    "ExecuteTime": {
     "end_time": "2022-06-26T05:37:46.332378Z",
     "start_time": "2022-06-26T05:37:46.317739Z"
    }
   },
   "outputs": [
    {
     "data": {
      "text/html": [
       "<div>\n",
       "<style scoped>\n",
       "    .dataframe tbody tr th:only-of-type {\n",
       "        vertical-align: middle;\n",
       "    }\n",
       "\n",
       "    .dataframe tbody tr th {\n",
       "        vertical-align: top;\n",
       "    }\n",
       "\n",
       "    .dataframe thead th {\n",
       "        text-align: right;\n",
       "    }\n",
       "</style>\n",
       "<table border=\"1\" class=\"dataframe\">\n",
       "  <thead>\n",
       "    <tr style=\"text-align: right;\">\n",
       "      <th></th>\n",
       "      <th>Pothole_ID</th>\n",
       "      <th>Location</th>\n",
       "      <th>Size</th>\n",
       "      <th>Crew_ID</th>\n",
       "      <th>Crew_size</th>\n",
       "      <th>Repair_hours</th>\n",
       "      <th>Repair_status</th>\n",
       "      <th>Filler_amount(cu_ft)</th>\n",
       "      <th>Repair_cost</th>\n",
       "    </tr>\n",
       "  </thead>\n",
       "  <tbody>\n",
       "    <tr>\n",
       "      <th>0</th>\n",
       "      <td>1</td>\n",
       "      <td>Inner</td>\n",
       "      <td>7</td>\n",
       "      <td>2</td>\n",
       "      <td>5</td>\n",
       "      <td>NaN</td>\n",
       "      <td>NaN</td>\n",
       "      <td>NaN</td>\n",
       "      <td>NaN</td>\n",
       "    </tr>\n",
       "    <tr>\n",
       "      <th>1</th>\n",
       "      <td>2</td>\n",
       "      <td>Outer</td>\n",
       "      <td>2</td>\n",
       "      <td>1</td>\n",
       "      <td>3</td>\n",
       "      <td>NaN</td>\n",
       "      <td>NaN</td>\n",
       "      <td>NaN</td>\n",
       "      <td>NaN</td>\n",
       "    </tr>\n",
       "  </tbody>\n",
       "</table>\n",
       "</div>"
      ],
      "text/plain": [
       "   Pothole_ID Location  Size  Crew_ID  Crew_size Repair_hours Repair_status  \\\n",
       "0           1    Inner     7        2          5          NaN           NaN   \n",
       "1           2    Outer     2        1          3          NaN           NaN   \n",
       "\n",
       "  Filler_amount(cu_ft) Repair_cost  \n",
       "0                  NaN         NaN  \n",
       "1                  NaN         NaN  "
      ]
     },
     "execution_count": 92,
     "metadata": {},
     "output_type": "execute_result"
    }
   ],
   "source": [
    "workorder_df"
   ]
  },
  {
   "cell_type": "code",
   "execution_count": 93,
   "metadata": {
    "ExecuteTime": {
     "end_time": "2022-06-26T05:39:15.285082Z",
     "start_time": "2022-06-26T05:39:15.280066Z"
    }
   },
   "outputs": [],
   "source": [
    "def repair_hours(size):\n",
    "    if size < 5:\n",
    "        return 2\n",
    "    elif size >= 5 and size < 8:\n",
    "        return 3\n",
    "    elif size >= 8:\n",
    "        return 4"
   ]
  },
  {
   "cell_type": "code",
   "execution_count": null,
   "metadata": {},
   "outputs": [],
   "source": [
    "workorder_df['Crew_size'] = workorder_df.Crew_ID.apply(lambda x: crewsize(x))"
   ]
  }
 ],
 "metadata": {
  "kernelspec": {
   "display_name": "Python 3",
   "language": "python",
   "name": "python3"
  },
  "language_info": {
   "codemirror_mode": {
    "name": "ipython",
    "version": 3
   },
   "file_extension": ".py",
   "mimetype": "text/x-python",
   "name": "python",
   "nbconvert_exporter": "python",
   "pygments_lexer": "ipython3",
   "version": "3.8.5"
  }
 },
 "nbformat": 4,
 "nbformat_minor": 4
}
