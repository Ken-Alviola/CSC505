{
 "cells": [
  {
   "cell_type": "code",
   "execution_count": 76,
   "metadata": {
    "ExecuteTime": {
     "end_time": "2022-06-05T11:30:27.074272Z",
     "start_time": "2022-06-05T11:30:27.069441Z"
    }
   },
   "outputs": [],
   "source": [
    "authorized_users = [('Ken', 'StoneFr33'), ]"
   ]
  },
  {
   "cell_type": "code",
   "execution_count": 4,
   "metadata": {
    "ExecuteTime": {
     "end_time": "2022-06-05T08:28:19.561956Z",
     "start_time": "2022-06-05T08:28:19.557162Z"
    }
   },
   "outputs": [],
   "source": [
    "appcounter_dict = {'Camera': 23,\n",
    "                   'Stocks': 15,\n",
    "                   'Mail': 60,\n",
    "                   'FTX': 20,\n",
    "                   'Viber': 32,\n",
    "                   'Messages': 44,\n",
    "                   'Youtube': 52,\n",
    "                   'Twitter': 33,\n",
    "                   'Spotify': 27,\n",
    "                   'USAA': 24\n",
    "                   }"
   ]
  },
  {
   "cell_type": "code",
   "execution_count": 1,
   "metadata": {
    "ExecuteTime": {
     "end_time": "2022-06-05T04:23:25.405712Z",
     "start_time": "2022-06-05T04:23:25.399692Z"
    }
   },
   "outputs": [],
   "source": [
    "def login():\n",
    "    '''authentication'''\n",
    "    name, passw = input('Enter your username: '), input('Enter you password: ')\n",
    "    login = (name.strip(), passw.strip())\n",
    "    return login"
   ]
  },
  {
   "cell_type": "code",
   "execution_count": 74,
   "metadata": {
    "ExecuteTime": {
     "end_time": "2022-06-05T11:21:04.776086Z",
     "start_time": "2022-06-05T11:21:04.764638Z"
    }
   },
   "outputs": [],
   "source": [
    "def run_phone():\n",
    "    credentials = login()\n",
    "\n",
    "    if credentials in authorized_users:\n",
    "        print()\n",
    "        print('Welcome',credentials[0])\n",
    "        menu_selection = 0\n",
    "\n",
    "        while menu_selection != 3:\n",
    "            print('-------------------------')\n",
    "            print('1-Favorite apps\\n2-App selection\\n3-Exit')\n",
    "            print('-------------------------')\n",
    "            menu_selection = int(input('\\nType the number of your selection: '))\n",
    "\n",
    "            if menu_selection == 1:\n",
    "                print('\\nYour favorite apps according to usage:\\n')\n",
    "                sorted_dict = {k: v for k, v in sorted(\n",
    "                    appcounter_dict.items(), key=lambda item: item[1], reverse=True)}\n",
    "                count = 0\n",
    "                for x in sorted_dict:\n",
    "                    count += 1\n",
    "                    print(count, x, ':', sorted_dict[x])\n",
    "                print()\n",
    "\n",
    "            elif menu_selection == 2:\n",
    "                print()\n",
    "                print(sorted(appcounter_dict))\n",
    "                app_choice = input('\\nType the app name of your choosing: ').capitalize()\n",
    "                if app_choice == 'Ftx' or app_choice == 'FTx' or app_choice == 'FtX':\n",
    "                    app_choice = 'FTX'\n",
    "                appcounter_dict[app_choice] += 1\n",
    "\n",
    "            else:\n",
    "                menu_selection = 3\n",
    "\n",
    "    else:\n",
    "        print('Login Failed')"
   ]
  },
  {
   "cell_type": "code",
   "execution_count": 33,
   "metadata": {
    "ExecuteTime": {
     "end_time": "2022-06-05T10:45:28.650684Z",
     "start_time": "2022-06-05T10:45:28.643978Z"
    }
   },
   "outputs": [
    {
     "data": {
      "text/plain": [
       "['Camera',\n",
       " 'FTX',\n",
       " 'Mail',\n",
       " 'Messages',\n",
       " 'Spotify',\n",
       " 'Stocks',\n",
       " 'Twitter',\n",
       " 'USAA',\n",
       " 'Viber',\n",
       " 'Youtube']"
      ]
     },
     "execution_count": 33,
     "metadata": {},
     "output_type": "execute_result"
    }
   ],
   "source": [
    "sorted(appcounter_dict)"
   ]
  },
  {
   "cell_type": "code",
   "execution_count": 8,
   "metadata": {
    "ExecuteTime": {
     "end_time": "2022-06-05T10:22:41.416531Z",
     "start_time": "2022-06-05T10:22:41.409521Z"
    }
   },
   "outputs": [
    {
     "data": {
      "text/plain": [
       "{'Mail': 60,\n",
       " 'Youtube': 52,\n",
       " 'Messages': 44,\n",
       " 'Twitter': 33,\n",
       " 'Viber': 32,\n",
       " 'Spotify': 27,\n",
       " 'USAA': 24,\n",
       " 'Camera': 23,\n",
       " 'FTX': 20,\n",
       " 'Stocks': 15}"
      ]
     },
     "execution_count": 8,
     "metadata": {},
     "output_type": "execute_result"
    }
   ],
   "source": [
    "{k: v for k, v in sorted(appcounter_dict.items(), key=lambda item: item[1], reverse=True)}"
   ]
  },
  {
   "cell_type": "code",
   "execution_count": 14,
   "metadata": {
    "ExecuteTime": {
     "end_time": "2022-06-05T10:32:57.071089Z",
     "start_time": "2022-06-05T10:32:57.065652Z"
    }
   },
   "outputs": [],
   "source": [
    "sorted_dict = {k: v for k, v in sorted(appcounter_dict.items(), key=lambda item: item[1], reverse=True)}"
   ]
  },
  {
   "cell_type": "code",
   "execution_count": 22,
   "metadata": {
    "ExecuteTime": {
     "end_time": "2022-06-05T10:37:27.353816Z",
     "start_time": "2022-06-05T10:37:27.340597Z"
    }
   },
   "outputs": [
    {
     "ename": "KeyError",
     "evalue": "1",
     "output_type": "error",
     "traceback": [
      "\u001b[0;31m---------------------------------------------------------------------------\u001b[0m",
      "\u001b[0;31mKeyError\u001b[0m                                  Traceback (most recent call last)",
      "\u001b[0;32m<ipython-input-22-88ad00dcb597>\u001b[0m in \u001b[0;36m<module>\u001b[0;34m\u001b[0m\n\u001b[0;32m----> 1\u001b[0;31m \u001b[0msorted_dict\u001b[0m\u001b[0;34m[\u001b[0m\u001b[0;36m1\u001b[0m\u001b[0;34m]\u001b[0m\u001b[0;34m\u001b[0m\u001b[0;34m\u001b[0m\u001b[0m\n\u001b[0m",
      "\u001b[0;31mKeyError\u001b[0m: 1"
     ]
    }
   ],
   "source": [
    "sorted_dict[1]"
   ]
  },
  {
   "cell_type": "code",
   "execution_count": 28,
   "metadata": {
    "ExecuteTime": {
     "end_time": "2022-06-05T10:39:40.268794Z",
     "start_time": "2022-06-05T10:39:40.261393Z"
    }
   },
   "outputs": [
    {
     "name": "stdout",
     "output_type": "stream",
     "text": [
      "1 Mail : 61\n",
      "2 Youtube : 52\n",
      "3 Messages : 44\n",
      "4 Twitter : 33\n",
      "5 Viber : 32\n",
      "6 Spotify : 27\n",
      "7 USAA : 24\n",
      "8 Camera : 23\n",
      "9 FTX : 20\n",
      "10 Stocks : 15\n"
     ]
    }
   ],
   "source": [
    "count = 0\n",
    "for x in sorted_dict:\n",
    "    count+=1\n",
    "    print(count,x,':',sorted_dict[x])"
   ]
  },
  {
   "cell_type": "code",
   "execution_count": 11,
   "metadata": {
    "ExecuteTime": {
     "end_time": "2022-06-05T10:27:59.127074Z",
     "start_time": "2022-06-05T10:27:59.123076Z"
    }
   },
   "outputs": [],
   "source": [
    "appcounter_dict['Mail'] += 1"
   ]
  },
  {
   "cell_type": "code",
   "execution_count": 12,
   "metadata": {
    "ExecuteTime": {
     "end_time": "2022-06-05T10:28:11.337276Z",
     "start_time": "2022-06-05T10:28:11.331230Z"
    }
   },
   "outputs": [
    {
     "data": {
      "text/plain": [
       "61"
      ]
     },
     "execution_count": 12,
     "metadata": {},
     "output_type": "execute_result"
    }
   ],
   "source": [
    "appcounter_dict['Mail']"
   ]
  },
  {
   "cell_type": "code",
   "execution_count": 75,
   "metadata": {
    "ExecuteTime": {
     "end_time": "2022-06-05T11:21:59.538747Z",
     "start_time": "2022-06-05T11:21:10.297322Z"
    }
   },
   "outputs": [
    {
     "name": "stdout",
     "output_type": "stream",
     "text": [
      "Enter your username: Ken\n",
      "Enter you password: StoneFr33\n",
      "\n",
      "Welcome Ken\n",
      "-------------------------\n",
      "1-Favorite apps\n",
      "2-App selection\n",
      "3-Exit\n",
      "-------------------------\n",
      "\n",
      "Type the number of your selection: 1\n",
      "\n",
      "Your favorite apps according to usage:\n",
      "\n",
      "1 Mail : 62\n",
      "2 Youtube : 52\n",
      "3 Messages : 44\n",
      "4 Twitter : 34\n",
      "5 Viber : 32\n",
      "6 Spotify : 28\n",
      "7 Camera : 25\n",
      "8 USAA : 24\n",
      "9 FTX : 23\n",
      "10 Stocks : 15\n",
      "\n",
      "-------------------------\n",
      "1-Favorite apps\n",
      "2-App selection\n",
      "3-Exit\n",
      "-------------------------\n",
      "\n",
      "Type the number of your selection: 3\n"
     ]
    }
   ],
   "source": [
    "run_phone()"
   ]
  },
  {
   "cell_type": "code",
   "execution_count": null,
   "metadata": {},
   "outputs": [],
   "source": []
  }
 ],
 "metadata": {
  "kernelspec": {
   "display_name": "Python 3",
   "language": "python",
   "name": "python3"
  },
  "language_info": {
   "codemirror_mode": {
    "name": "ipython",
    "version": 3
   },
   "file_extension": ".py",
   "mimetype": "text/x-python",
   "name": "python",
   "nbconvert_exporter": "python",
   "pygments_lexer": "ipython3",
   "version": "3.8.5"
  }
 },
 "nbformat": 4,
 "nbformat_minor": 4
}
