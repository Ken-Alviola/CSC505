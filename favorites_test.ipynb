{
 "cells": [
  {
   "cell_type": "code",
   "execution_count": 2,
   "metadata": {
    "ExecuteTime": {
     "end_time": "2022-06-05T08:15:49.322685Z",
     "start_time": "2022-06-05T08:15:49.310422Z"
    }
   },
   "outputs": [],
   "source": [
    "authorized_users = [('Ken', 'StoneFr33'),\n",
    "                    ]"
   ]
  },
  {
   "cell_type": "code",
   "execution_count": 4,
   "metadata": {
    "ExecuteTime": {
     "end_time": "2022-06-05T08:28:19.561956Z",
     "start_time": "2022-06-05T08:28:19.557162Z"
    }
   },
   "outputs": [],
   "source": [
    "appcounter_dict = {'Camera': 23,\n",
    "                   'Stocks': 15,\n",
    "                   'Mail': 60,\n",
    "                   'FTX': 20,\n",
    "                   'Viber': 32,\n",
    "                   'Messages': 44,\n",
    "                   'Youtube': 52,\n",
    "                   'Twitter': 33,\n",
    "                   'Spotify': 27,\n",
    "                   'USAA': 24\n",
    "                   }"
   ]
  },
  {
   "cell_type": "code",
   "execution_count": 1,
   "metadata": {
    "ExecuteTime": {
     "end_time": "2022-06-05T04:23:25.405712Z",
     "start_time": "2022-06-05T04:23:25.399692Z"
    }
   },
   "outputs": [],
   "source": [
    "def login():\n",
    "    '''authentication'''\n",
    "    name, passw = input('Enter your username: '), input('Enter you password: ')\n",
    "    login = (name.strip(), passw.strip())\n",
    "    return login"
   ]
  },
  {
   "cell_type": "code",
   "execution_count": 13,
   "metadata": {
    "ExecuteTime": {
     "end_time": "2022-06-05T10:31:03.035763Z",
     "start_time": "2022-06-05T10:31:03.023607Z"
    }
   },
   "outputs": [],
   "source": [
    "def run_phone():\n",
    "    credentials = login()\n",
    "    if credentials in authorized_users:\n",
    "        exit = False\n",
    "        while exit == False:\n",
    "            print('1-Favorite apps \\n 2-App selection \\n 3-Exit')\n",
    "            menu_selection = int(input('Type the number of your selection: '))\n",
    "            if menu_selection == 1:\n",
    "                print ('Your favorite apps according to usage: ')\n",
    "                print ({k: v for k, v in sorted(appcounter_dict.items(), key=lambda item: item[1], reverse=True)})\n",
    "            elif menu_selection == 2:\n",
    "                print (sorted(appcounter_dict))\n",
    "                app_choice = input('Type the app name of your choosing: ')\n",
    "                app_choice.capitalize()\n",
    "                appcounter_dict[app_choice] += 1\n",
    "            else:\n",
    "                exit == True\n",
    "                \n",
    "    \n",
    "    else:\n",
    "        print('Login Failed')\n",
    "        "
   ]
  },
  {
   "cell_type": "code",
   "execution_count": 6,
   "metadata": {
    "ExecuteTime": {
     "end_time": "2022-06-05T10:19:41.500119Z",
     "start_time": "2022-06-05T10:19:41.489869Z"
    }
   },
   "outputs": [
    {
     "data": {
      "text/plain": [
       "['Camera',\n",
       " 'FTX',\n",
       " 'Mail',\n",
       " 'Messages',\n",
       " 'Spotify',\n",
       " 'Stocks',\n",
       " 'Twitter',\n",
       " 'USAA',\n",
       " 'Viber',\n",
       " 'Youtube']"
      ]
     },
     "execution_count": 6,
     "metadata": {},
     "output_type": "execute_result"
    }
   ],
   "source": [
    "sorted(appcounter_dict)"
   ]
  },
  {
   "cell_type": "code",
   "execution_count": 8,
   "metadata": {
    "ExecuteTime": {
     "end_time": "2022-06-05T10:22:41.416531Z",
     "start_time": "2022-06-05T10:22:41.409521Z"
    }
   },
   "outputs": [
    {
     "data": {
      "text/plain": [
       "{'Mail': 60,\n",
       " 'Youtube': 52,\n",
       " 'Messages': 44,\n",
       " 'Twitter': 33,\n",
       " 'Viber': 32,\n",
       " 'Spotify': 27,\n",
       " 'USAA': 24,\n",
       " 'Camera': 23,\n",
       " 'FTX': 20,\n",
       " 'Stocks': 15}"
      ]
     },
     "execution_count": 8,
     "metadata": {},
     "output_type": "execute_result"
    }
   ],
   "source": [
    "{k: v for k, v in sorted(appcounter_dict.items(), key=lambda item: item[1], reverse=True)}"
   ]
  },
  {
   "cell_type": "code",
   "execution_count": 11,
   "metadata": {
    "ExecuteTime": {
     "end_time": "2022-06-05T10:27:59.127074Z",
     "start_time": "2022-06-05T10:27:59.123076Z"
    }
   },
   "outputs": [],
   "source": [
    "appcounter_dict['Mail'] += 1"
   ]
  },
  {
   "cell_type": "code",
   "execution_count": 12,
   "metadata": {
    "ExecuteTime": {
     "end_time": "2022-06-05T10:28:11.337276Z",
     "start_time": "2022-06-05T10:28:11.331230Z"
    }
   },
   "outputs": [
    {
     "data": {
      "text/plain": [
       "61"
      ]
     },
     "execution_count": 12,
     "metadata": {},
     "output_type": "execute_result"
    }
   ],
   "source": [
    "appcounter_dict['Mail']"
   ]
  },
  {
   "cell_type": "code",
   "execution_count": null,
   "metadata": {},
   "outputs": [],
   "source": []
  }
 ],
 "metadata": {
  "kernelspec": {
   "display_name": "Python 3",
   "language": "python",
   "name": "python3"
  },
  "language_info": {
   "codemirror_mode": {
    "name": "ipython",
    "version": 3
   },
   "file_extension": ".py",
   "mimetype": "text/x-python",
   "name": "python",
   "nbconvert_exporter": "python",
   "pygments_lexer": "ipython3",
   "version": "3.8.5"
  }
 },
 "nbformat": 4,
 "nbformat_minor": 4
}
