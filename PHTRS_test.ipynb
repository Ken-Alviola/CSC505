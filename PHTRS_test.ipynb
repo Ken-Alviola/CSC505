{
 "cells": [
  {
   "cell_type": "code",
   "execution_count": 28,
   "metadata": {
    "ExecuteTime": {
     "end_time": "2022-06-19T02:50:24.214118Z",
     "start_time": "2022-06-19T02:50:24.210962Z"
    }
   },
   "outputs": [],
   "source": [
    "pothole_dict = {1: {'Street': 'Hummingbird Lane',\n",
    "                    'Zip': 78256,\n",
    "                    'Size': 7,\n",
    "                    'Location': 'Inner'\n",
    "                    },\n",
    "                2: {'Street': 'Marzano Street',\n",
    "                    'Zip': 78259,\n",
    "                    'Size': 2,\n",
    "                    'Location': 'Outer'}\n",
    "                }"
   ]
  },
  {
   "cell_type": "code",
   "execution_count": 7,
   "metadata": {
    "ExecuteTime": {
     "end_time": "2022-06-19T02:20:14.120784Z",
     "start_time": "2022-06-19T02:20:14.114637Z"
    }
   },
   "outputs": [
    {
     "data": {
      "text/plain": [
       "2"
      ]
     },
     "execution_count": 7,
     "metadata": {},
     "output_type": "execute_result"
    }
   ],
   "source": [
    "len(pothole_dict)"
   ]
  },
  {
   "cell_type": "code",
   "execution_count": 15,
   "metadata": {
    "ExecuteTime": {
     "end_time": "2022-06-19T02:31:37.341625Z",
     "start_time": "2022-06-19T02:31:36.726281Z"
    }
   },
   "outputs": [
    {
     "name": "stdout",
     "output_type": "stream",
     "text": [
      "Please enter the ID number or press Enter to continue: 2\n"
     ]
    }
   ],
   "source": [
    "pid = input('Please enter the ID number or press Enter to continue: ')"
   ]
  },
  {
   "cell_type": "code",
   "execution_count": 16,
   "metadata": {
    "ExecuteTime": {
     "end_time": "2022-06-19T02:31:38.486705Z",
     "start_time": "2022-06-19T02:31:38.483242Z"
    }
   },
   "outputs": [],
   "source": [
    "if pid.isdigit() == True:\n",
    "    pid = int(pid)"
   ]
  },
  {
   "cell_type": "code",
   "execution_count": 22,
   "metadata": {
    "ExecuteTime": {
     "end_time": "2022-06-19T02:33:39.121562Z",
     "start_time": "2022-06-19T02:33:39.111928Z"
    }
   },
   "outputs": [
    {
     "name": "stdout",
     "output_type": "stream",
     "text": [
      "Street : Marzano Street\n",
      "Zip : 78259\n",
      "Size : 2\n",
      "Location : Outer\n"
     ]
    }
   ],
   "source": [
    "if pid in list(pothole_dict.keys()):\n",
    "    for x in pothole_dict[pid]:\n",
    "        print (x,':', pothole_dict[pid][x])"
   ]
  },
  {
   "cell_type": "code",
   "execution_count": 20,
   "metadata": {
    "ExecuteTime": {
     "end_time": "2022-06-19T02:32:53.358404Z",
     "start_time": "2022-06-19T02:32:53.351340Z"
    }
   },
   "outputs": [
    {
     "data": {
      "text/plain": [
       "'Marzano Street'"
      ]
     },
     "execution_count": 20,
     "metadata": {},
     "output_type": "execute_result"
    }
   ],
   "source": [
    "pothole_dict[pid]['Street']"
   ]
  },
  {
   "cell_type": "code",
   "execution_count": 33,
   "metadata": {
    "ExecuteTime": {
     "end_time": "2022-06-19T02:54:33.147315Z",
     "start_time": "2022-06-19T02:54:33.138141Z"
    }
   },
   "outputs": [
    {
     "name": "stdout",
     "output_type": "stream",
     "text": [
      "This falls under district: 2\n",
      "Current priority is: Low\n"
     ]
    }
   ],
   "source": [
    "if pothole_dict[pid]['Zip'] <= 78255:\n",
    "    district = 1\n",
    "else:\n",
    "    district = 2\n",
    "    \n",
    "if pothole_dict[pid]['Size'] >=1 and pothole_dict[pid]['Size'] < 5:\n",
    "    priority = 'Low'\n",
    "elif pothole_dict[pid]['Size'] >=5 and pothole_dict[pid]['Size'] < 8:\n",
    "    priority = 'Medium'\n",
    "elif pothole_dict[pid]['Size'] >= 8:\n",
    "    priority = 'High'\n",
    "    \n",
    "print (f'This falls under district: {district}')\n",
    "print (f'Current priority is: {priority}')"
   ]
  },
  {
   "cell_type": "code",
   "execution_count": 24,
   "metadata": {
    "ExecuteTime": {
     "end_time": "2022-06-19T02:40:12.272324Z",
     "start_time": "2022-06-19T02:40:12.264919Z"
    }
   },
   "outputs": [
    {
     "data": {
      "text/plain": [
       "(2, 'Low')"
      ]
     },
     "execution_count": 24,
     "metadata": {},
     "output_type": "execute_result"
    }
   ],
   "source": [
    "district, priority"
   ]
  },
  {
   "cell_type": "code",
   "execution_count": 27,
   "metadata": {
    "ExecuteTime": {
     "end_time": "2022-06-19T02:49:57.204244Z",
     "start_time": "2022-06-19T02:49:10.337742Z"
    }
   },
   "outputs": [
    {
     "name": "stdout",
     "output_type": "stream",
     "text": [
      "Please enter the street: DeFranzo loop\n",
      "Please enter the Zipcode: 78260\n",
      "Enter the size of the pothole (1-10): 9\n",
      "Enter the location (Center,Mid,Outer): Mid\n"
     ]
    }
   ],
   "source": [
    "Street = input('Please enter the street: ')\n",
    "Zip = int(input('Please enter the Zipcode: '))\n",
    "Size = int(input('Enter the size of the pothole (1-10): '))\n",
    "Location = input('Enter the location (Inner,Mid,Outer): ')"
   ]
  },
  {
   "cell_type": "code",
   "execution_count": 29,
   "metadata": {
    "ExecuteTime": {
     "end_time": "2022-06-19T02:51:30.081540Z",
     "start_time": "2022-06-19T02:51:30.077142Z"
    }
   },
   "outputs": [],
   "source": [
    "new_id = len(pothole_dict) + 1"
   ]
  },
  {
   "cell_type": "code",
   "execution_count": 31,
   "metadata": {
    "ExecuteTime": {
     "end_time": "2022-06-19T02:52:40.288314Z",
     "start_time": "2022-06-19T02:52:40.285291Z"
    }
   },
   "outputs": [],
   "source": [
    "pothole_dict[new_id] = {'Street': Street,\n",
    "                        'Zip': Zip,\n",
    "                        'Size': Size,\n",
    "                        'Location': Location}"
   ]
  },
  {
   "cell_type": "code",
   "execution_count": 32,
   "metadata": {
    "ExecuteTime": {
     "end_time": "2022-06-19T02:52:45.237250Z",
     "start_time": "2022-06-19T02:52:45.229301Z"
    }
   },
   "outputs": [
    {
     "data": {
      "text/plain": [
       "{'Street': 'DeFranzo loop', 'Zip': 78260, 'Size': 9, 'Location': 'Mid'}"
      ]
     },
     "execution_count": 32,
     "metadata": {},
     "output_type": "execute_result"
    }
   ],
   "source": [
    "pothole_dict[3]"
   ]
  },
  {
   "cell_type": "code",
   "execution_count": 53,
   "metadata": {
    "ExecuteTime": {
     "end_time": "2022-06-19T03:09:28.477391Z",
     "start_time": "2022-06-19T03:09:28.472516Z"
    }
   },
   "outputs": [],
   "source": [
    "def request_id():\n",
    "    pid = input('Please enter the ID number or press Enter to continue: ')\n",
    "    if pid.isdigit() == True:\n",
    "        pid = int(pid)\n",
    "    else:\n",
    "        register_new()\n",
    "    return pid"
   ]
  },
  {
   "cell_type": "code",
   "execution_count": 54,
   "metadata": {
    "ExecuteTime": {
     "end_time": "2022-06-19T03:09:30.143480Z",
     "start_time": "2022-06-19T03:09:30.137213Z"
    }
   },
   "outputs": [],
   "source": [
    "def register_new():\n",
    "    Street = input('Please enter the street: ')\n",
    "    Zip = int(input('Please enter the Zipcode: '))\n",
    "    Size = int(input('Enter the size of the pothole (1-10): '))\n",
    "    Location = input('Enter the location (Inner,Mid,Outer): ')\n",
    "\n",
    "    new_id = len(pothole_dict) + 1\n",
    "    pothole_dict[new_id] = {'Street': Street,\n",
    "                            'Zip': Zip,\n",
    "                            'Size': Size,\n",
    "                            'Location': Location}\n",
    "    pid = new_id\n",
    "    return pid"
   ]
  },
  {
   "cell_type": "code",
   "execution_count": 55,
   "metadata": {
    "ExecuteTime": {
     "end_time": "2022-06-19T03:09:31.329210Z",
     "start_time": "2022-06-19T03:09:31.321028Z"
    }
   },
   "outputs": [],
   "source": [
    "def display_info(pid):\n",
    "    if pid in list(pothole_dict.keys()):\n",
    "        for x in pothole_dict[pid]:\n",
    "            print(x, ':', pothole_dict[pid][x])\n",
    "\n",
    "    if pothole_dict[pid]['Zip'] <= 78255:\n",
    "        district = 1\n",
    "    else:\n",
    "        district = 2\n",
    "\n",
    "    if pothole_dict[pid]['Size'] >= 1 and pothole_dict[pid]['Size'] < 5:\n",
    "        priority = 'Low'\n",
    "    elif pothole_dict[pid]['Size'] >= 5 and pothole_dict[pid]['Size'] < 8:\n",
    "        priority = 'Medium'\n",
    "    elif pothole_dict[pid]['Size'] >= 8:\n",
    "        priority = 'High'\n",
    "\n",
    "    print(f'This falls under district: {district}')\n",
    "    print(f'Current priority is: {priority}')"
   ]
  },
  {
   "cell_type": "code",
   "execution_count": 61,
   "metadata": {
    "ExecuteTime": {
     "end_time": "2022-06-19T03:11:42.003086Z",
     "start_time": "2022-06-19T03:11:41.996528Z"
    }
   },
   "outputs": [],
   "source": [
    "def run_phtrs():\n",
    "    pid = request_id()\n",
    "    display_info(pid)"
   ]
  },
  {
   "cell_type": "code",
   "execution_count": 64,
   "metadata": {
    "ExecuteTime": {
     "end_time": "2022-06-19T03:11:53.772579Z",
     "start_time": "2022-06-19T03:11:53.353396Z"
    }
   },
   "outputs": [
    {
     "name": "stdout",
     "output_type": "stream",
     "text": [
      "Please enter the ID number or press Enter to continue: 3\n",
      "Street : DeFranzo loop\n",
      "Zip : 78260\n",
      "Size : 9\n",
      "Location : Mid\n",
      "This falls under district: 2\n",
      "Current priority is: High\n"
     ]
    }
   ],
   "source": [
    "run_phtrs()"
   ]
  },
  {
   "cell_type": "code",
   "execution_count": 60,
   "metadata": {
    "ExecuteTime": {
     "end_time": "2022-06-19T03:10:51.591387Z",
     "start_time": "2022-06-19T03:10:51.583860Z"
    }
   },
   "outputs": [
    {
     "data": {
      "text/plain": [
       "2"
      ]
     },
     "execution_count": 60,
     "metadata": {},
     "output_type": "execute_result"
    }
   ],
   "source": [
    "pid"
   ]
  },
  {
   "cell_type": "code",
   "execution_count": null,
   "metadata": {},
   "outputs": [],
   "source": []
  }
 ],
 "metadata": {
  "kernelspec": {
   "display_name": "Python 3",
   "language": "python",
   "name": "python3"
  },
  "language_info": {
   "codemirror_mode": {
    "name": "ipython",
    "version": 3
   },
   "file_extension": ".py",
   "mimetype": "text/x-python",
   "name": "python",
   "nbconvert_exporter": "python",
   "pygments_lexer": "ipython3",
   "version": "3.8.5"
  }
 },
 "nbformat": 4,
 "nbformat_minor": 4
}
