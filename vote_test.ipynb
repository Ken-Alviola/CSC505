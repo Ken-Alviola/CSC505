{
 "cells": [
  {
   "cell_type": "code",
   "execution_count": 2,
   "metadata": {
    "ExecuteTime": {
     "end_time": "2022-05-28T01:16:41.264397Z",
     "start_time": "2022-05-28T01:16:41.257981Z"
    }
   },
   "outputs": [],
   "source": [
    "authorized_list = [('admin', '1234'),\n",
    "                   ('user1','oak'),\n",
    "                   ('user2','hickory'),\n",
    "                   ('user3','mesquite')]"
   ]
  },
  {
   "cell_type": "code",
   "execution_count": 105,
   "metadata": {
    "ExecuteTime": {
     "end_time": "2022-05-28T02:59:19.607616Z",
     "start_time": "2022-05-28T02:59:19.602102Z"
    }
   },
   "outputs": [],
   "source": [
    "def login():\n",
    "    name, passw = input('Enter your username: '), input('Enter you password: ')\n",
    "    login = (name.strip(), passw.strip())\n",
    "    return login"
   ]
  },
  {
   "cell_type": "code",
   "execution_count": 106,
   "metadata": {
    "ExecuteTime": {
     "end_time": "2022-05-28T02:59:29.187011Z",
     "start_time": "2022-05-28T02:59:24.795277Z"
    }
   },
   "outputs": [
    {
     "name": "stdout",
     "output_type": "stream",
     "text": [
      "Enter your username: admin\n",
      "Enter you password: 1234\n"
     ]
    }
   ],
   "source": [
    "credentials = login()"
   ]
  },
  {
   "cell_type": "code",
   "execution_count": 107,
   "metadata": {
    "ExecuteTime": {
     "end_time": "2022-05-28T02:59:31.880848Z",
     "start_time": "2022-05-28T02:59:31.873409Z"
    }
   },
   "outputs": [
    {
     "data": {
      "text/plain": [
       "('admin', '1234')"
      ]
     },
     "execution_count": 107,
     "metadata": {},
     "output_type": "execute_result"
    }
   ],
   "source": [
    "credentials"
   ]
  },
  {
   "cell_type": "code",
   "execution_count": 108,
   "metadata": {
    "ExecuteTime": {
     "end_time": "2022-05-28T02:59:35.554099Z",
     "start_time": "2022-05-28T02:59:35.549861Z"
    }
   },
   "outputs": [],
   "source": [
    "def add_spec():\n",
    "    new_spec = False\n",
    "    add_spec = input('Do you wish to add a specification for voting? Type(y/n): ')\n",
    "    if add_spec == 'y' or add_spec == 'Y':\n",
    "        new_spec = input('Input new spec: ')\n",
    "        return new_spec\n",
    "    else:\n",
    "        return False"
   ]
  },
  {
   "cell_type": "code",
   "execution_count": 109,
   "metadata": {
    "ExecuteTime": {
     "end_time": "2022-05-28T02:59:37.527538Z",
     "start_time": "2022-05-28T02:59:37.522961Z"
    }
   },
   "outputs": [],
   "source": [
    "spec_dict = {1:'50fps',\n",
    "            2: '60fps',\n",
    "            3: '120fps'}\n",
    "\n",
    "vote_list = [1,1,3]"
   ]
  },
  {
   "cell_type": "code",
   "execution_count": 110,
   "metadata": {
    "ExecuteTime": {
     "end_time": "2022-05-28T02:59:47.821310Z",
     "start_time": "2022-05-28T02:59:45.287724Z"
    }
   },
   "outputs": [
    {
     "name": "stdout",
     "output_type": "stream",
     "text": [
      "Do you wish to add a specification for voting? Type(y/n): n\n",
      "\n",
      "{1: '50fps', 2: '60fps', 3: '120fps'} \n",
      "\n",
      "Current vote count: \n",
      "50fps : 2 votes\n",
      "60fps : 0 votes\n",
      "120fps : 1 votes\n"
     ]
    }
   ],
   "source": [
    "if credentials in authorized_list:\n",
    "    new_spec = add_spec()\n",
    "    if new_spec != False:\n",
    "        spec_dict[len(spec_dict)+1] = new_spec\n",
    "        \n",
    "    print()\n",
    "    print(spec_dict,'\\n')\n",
    "    \n",
    "    if credentials[0] != 'admin':\n",
    "        vote = int(input('Type the number of the spec to cast your vote: '))\n",
    "        vote_list.append(vote)\n",
    "        print()\n",
    "        print(f'You voted for spec {vote}: {spec_dict[vote]}')\n",
    "        print('Thank you. Results will be announced in 48hrs')\n",
    "    \n",
    "    if credentials[0] == 'admin':\n",
    "        print('Current vote count: ')\n",
    "        count = 1\n",
    "        while count <= max(vote_list):\n",
    "            print(spec_dict[count],':',vote_list.count(count),'votes')\n",
    "            count += 1\n",
    "else:\n",
    "    print('Unauthorized user')"
   ]
  },
  {
   "cell_type": "code",
   "execution_count": 111,
   "metadata": {
    "ExecuteTime": {
     "end_time": "2022-05-28T03:01:01.047953Z",
     "start_time": "2022-05-28T03:01:01.042005Z"
    }
   },
   "outputs": [
    {
     "name": "stdout",
     "output_type": "stream",
     "text": [
      "50fps : 2 votes\n",
      "60fps : 0 votes\n",
      "120fps : 1 votes\n"
     ]
    }
   ],
   "source": [
    "\n",
    "count = 1\n",
    "while count <= max(vote_list):\n",
    "    print(spec_dict[count],':',vote_list.count(count),'votes')\n",
    "    count += 1\n",
    "    "
   ]
  },
  {
   "cell_type": "code",
   "execution_count": 98,
   "metadata": {
    "ExecuteTime": {
     "end_time": "2022-05-28T02:55:05.005795Z",
     "start_time": "2022-05-28T02:55:04.999544Z"
    }
   },
   "outputs": [
    {
     "data": {
      "text/plain": [
       "3"
      ]
     },
     "execution_count": 98,
     "metadata": {},
     "output_type": "execute_result"
    }
   ],
   "source": [
    "max(vote_list)"
   ]
  },
  {
   "cell_type": "code",
   "execution_count": 99,
   "metadata": {
    "ExecuteTime": {
     "end_time": "2022-05-28T02:55:07.310782Z",
     "start_time": "2022-05-28T02:55:07.304236Z"
    }
   },
   "outputs": [
    {
     "data": {
      "text/plain": [
       "[1, 1, 3, 3]"
      ]
     },
     "execution_count": 99,
     "metadata": {},
     "output_type": "execute_result"
    }
   ],
   "source": [
    "vote_list"
   ]
  },
  {
   "cell_type": "code",
   "execution_count": 122,
   "metadata": {
    "ExecuteTime": {
     "end_time": "2022-05-28T03:31:31.403525Z",
     "start_time": "2022-05-28T03:31:31.395041Z"
    }
   },
   "outputs": [],
   "source": [
    "def vote(credentials):\n",
    "    if credentials in authorized_list:\n",
    "        new_spec = add_spec()\n",
    "        if new_spec != False:\n",
    "            spec_dict[len(spec_dict)+1] = new_spec\n",
    "            \n",
    "        print()\n",
    "        print(spec_dict,'\\n')    \n",
    "        \n",
    "        if credentials[0] != 'admin':\n",
    "            vote = int(input('Type the number of the spec to cast your vote: '))\n",
    "            vote_list.append(vote)\n",
    "            print()\n",
    "            print(f'You voted for spec {vote}: {spec_dict[vote]}')\n",
    "            print('Thank you. Results will be announced in 48hrs')\n",
    "        \n",
    "        if credentials[0] == 'admin':\n",
    "            print('Current vote count: ')\n",
    "            count = 1\n",
    "            while count <= max(vote_list):\n",
    "                print(spec_dict[count],':',vote_list.count(count),'votes')\n",
    "                count += 1\n",
    "        \n",
    "    else:\n",
    "        print('Unauthorized user')"
   ]
  },
  {
   "cell_type": "code",
   "execution_count": 128,
   "metadata": {
    "ExecuteTime": {
     "end_time": "2022-05-28T03:34:42.812078Z",
     "start_time": "2022-05-28T03:34:42.806743Z"
    }
   },
   "outputs": [],
   "source": [
    "#constructors for initializing userlist, specs, and voting tally\n",
    "\n",
    "authorized_list = [('admin', '1234'),\n",
    "                   ('user1','oak'),\n",
    "                   ('user2','hickory'),\n",
    "                   ('user3','mesquite')]\n",
    "\n",
    "spec_dict = {1:'50fps',\n",
    "            2: '60fps',\n",
    "            3: '120fps'}\n",
    "\n",
    "vote_list = [1,1,3]"
   ]
  },
  {
   "cell_type": "code",
   "execution_count": 129,
   "metadata": {
    "ExecuteTime": {
     "end_time": "2022-05-28T03:36:43.925106Z",
     "start_time": "2022-05-28T03:36:43.920924Z"
    }
   },
   "outputs": [],
   "source": [
    "def run_vote():\n",
    "    '''Run constructor to initialize lists and dictionary then use run_vote()'''\n",
    "    credentials = login()\n",
    "    vote(credentials)"
   ]
  },
  {
   "cell_type": "code",
   "execution_count": 130,
   "metadata": {
    "ExecuteTime": {
     "end_time": "2022-05-28T03:37:03.608207Z",
     "start_time": "2022-05-28T03:36:44.864444Z"
    }
   },
   "outputs": [
    {
     "name": "stdout",
     "output_type": "stream",
     "text": [
      "Enter your username: user1\n",
      "Enter you password: oak\n",
      "Do you wish to add a specification for voting? Type(y/n): y\n",
      "Input new spec: 144fps\n",
      "\n",
      "{1: '50fps', 2: '60fps', 3: '120fps', 4: '144fps'} \n",
      "\n",
      "Type the number of the spec to cast your vote: 4\n",
      "\n",
      "You voted for spec 4: 144fps\n",
      "Thank you. Results will be announced in 48hrs\n"
     ]
    }
   ],
   "source": [
    "run_vote()"
   ]
  },
  {
   "cell_type": "code",
   "execution_count": 131,
   "metadata": {
    "ExecuteTime": {
     "end_time": "2022-05-28T03:37:31.825305Z",
     "start_time": "2022-05-28T03:37:16.393393Z"
    }
   },
   "outputs": [
    {
     "name": "stdout",
     "output_type": "stream",
     "text": [
      "Enter your username: user2\n",
      "Enter you password: hickory\n",
      "Do you wish to add a specification for voting? Type(y/n): n\n",
      "\n",
      "{1: '50fps', 2: '60fps', 3: '120fps', 4: '144fps'} \n",
      "\n",
      "Type the number of the spec to cast your vote: 4\n",
      "\n",
      "You voted for spec 4: 144fps\n",
      "Thank you. Results will be announced in 48hrs\n"
     ]
    }
   ],
   "source": [
    "run_vote()"
   ]
  },
  {
   "cell_type": "code",
   "execution_count": 132,
   "metadata": {
    "ExecuteTime": {
     "end_time": "2022-05-28T03:37:47.273517Z",
     "start_time": "2022-05-28T03:37:41.179731Z"
    }
   },
   "outputs": [
    {
     "name": "stdout",
     "output_type": "stream",
     "text": [
      "Enter your username: admin\n",
      "Enter you password: 1234\n",
      "Do you wish to add a specification for voting? Type(y/n): n\n",
      "\n",
      "{1: '50fps', 2: '60fps', 3: '120fps', 4: '144fps'} \n",
      "\n",
      "Current vote count: \n",
      "50fps : 2 votes\n",
      "60fps : 0 votes\n",
      "120fps : 1 votes\n",
      "144fps : 2 votes\n"
     ]
    }
   ],
   "source": [
    "run_vote()"
   ]
  },
  {
   "cell_type": "code",
   "execution_count": null,
   "metadata": {},
   "outputs": [],
   "source": []
  }
 ],
 "metadata": {
  "kernelspec": {
   "display_name": "Python 3",
   "language": "python",
   "name": "python3"
  },
  "language_info": {
   "codemirror_mode": {
    "name": "ipython",
    "version": 3
   },
   "file_extension": ".py",
   "mimetype": "text/x-python",
   "name": "python",
   "nbconvert_exporter": "python",
   "pygments_lexer": "ipython3",
   "version": "3.8.5"
  }
 },
 "nbformat": 4,
 "nbformat_minor": 4
}
