{
 "cells": [
  {
   "cell_type": "code",
   "execution_count": 1,
   "metadata": {
    "ExecuteTime": {
     "end_time": "2022-06-05T11:33:59.219095Z",
     "start_time": "2022-06-05T11:33:59.209120Z"
    }
   },
   "outputs": [],
   "source": [
    "import favorite_apps"
   ]
  },
  {
   "cell_type": "code",
   "execution_count": 2,
   "metadata": {
    "ExecuteTime": {
     "end_time": "2022-06-05T11:34:36.466201Z",
     "start_time": "2022-06-05T11:34:08.722864Z"
    }
   },
   "outputs": [
    {
     "name": "stdout",
     "output_type": "stream",
     "text": [
      "Enter your username: Ken\n",
      "Enter you password: StoneFr33\n",
      "\n",
      "Welcome Ken\n",
      "-------------------------\n",
      "1-Favorite apps\n",
      "2-App selection\n",
      "3-Exit\n",
      "-------------------------\n",
      "\n",
      "Type the number of your selection: 1\n",
      "\n",
      "Your favorite apps according to usage:\n",
      "\n",
      "1 Mail : 60\n",
      "2 Youtube : 52\n",
      "3 Messages : 44\n",
      "4 Twitter : 33\n",
      "5 Viber : 32\n",
      "6 Spotify : 27\n",
      "7 USAA : 24\n",
      "8 Camera : 23\n",
      "9 FTX : 20\n",
      "10 Stocks : 15\n",
      "\n",
      "-------------------------\n",
      "1-Favorite apps\n",
      "2-App selection\n",
      "3-Exit\n",
      "-------------------------\n",
      "\n",
      "Type the number of your selection: 3\n"
     ]
    }
   ],
   "source": [
    "favorite_apps.run_phone()"
   ]
  },
  {
   "cell_type": "code",
   "execution_count": 3,
   "metadata": {
    "ExecuteTime": {
     "end_time": "2022-06-05T11:37:06.554711Z",
     "start_time": "2022-06-05T11:35:28.139214Z"
    }
   },
   "outputs": [
    {
     "name": "stdout",
     "output_type": "stream",
     "text": [
      "Enter your username: Ken\n",
      "Enter you password: StoneFr33\n",
      "\n",
      "Welcome Ken\n",
      "-------------------------\n",
      "1-Favorite apps\n",
      "2-App selection\n",
      "3-Exit\n",
      "-------------------------\n",
      "\n",
      "Type the number of your selection: 2\n",
      "\n",
      "['Camera', 'FTX', 'Mail', 'Messages', 'Spotify', 'Stocks', 'Twitter', 'USAA', 'Viber', 'Youtube']\n",
      "\n",
      "Type the app name of your choosing: mail\n",
      "-------------------------\n",
      "1-Favorite apps\n",
      "2-App selection\n",
      "3-Exit\n",
      "-------------------------\n",
      "\n",
      "Type the number of your selection: 2\n",
      "\n",
      "['Camera', 'FTX', 'Mail', 'Messages', 'Spotify', 'Stocks', 'Twitter', 'USAA', 'Viber', 'Youtube']\n",
      "\n",
      "Type the app name of your choosing: camera\n",
      "-------------------------\n",
      "1-Favorite apps\n",
      "2-App selection\n",
      "3-Exit\n",
      "-------------------------\n",
      "\n",
      "Type the number of your selection: 1\n",
      "\n",
      "Your favorite apps according to usage:\n",
      "\n",
      "1 Mail : 61\n",
      "2 Youtube : 52\n",
      "3 Messages : 44\n",
      "4 Twitter : 33\n",
      "5 Viber : 32\n",
      "6 Spotify : 27\n",
      "7 Camera : 24\n",
      "8 USAA : 24\n",
      "9 FTX : 20\n",
      "10 Stocks : 15\n",
      "\n",
      "-------------------------\n",
      "1-Favorite apps\n",
      "2-App selection\n",
      "3-Exit\n",
      "-------------------------\n",
      "\n",
      "Type the number of your selection: 3\n"
     ]
    }
   ],
   "source": [
    "favorite_apps.run_phone()"
   ]
  },
  {
   "cell_type": "code",
   "execution_count": 4,
   "metadata": {
    "ExecuteTime": {
     "end_time": "2022-06-05T11:37:16.204087Z",
     "start_time": "2022-06-05T11:37:12.419034Z"
    }
   },
   "outputs": [
    {
     "name": "stdout",
     "output_type": "stream",
     "text": [
      "Enter your username: ken\n",
      "Enter you password: stonefree\n",
      "Login Failed\n"
     ]
    }
   ],
   "source": [
    "favorite_apps.run_phone()"
   ]
  },
  {
   "cell_type": "code",
   "execution_count": null,
   "metadata": {},
   "outputs": [],
   "source": []
  }
 ],
 "metadata": {
  "kernelspec": {
   "display_name": "Python 3",
   "language": "python",
   "name": "python3"
  },
  "language_info": {
   "codemirror_mode": {
    "name": "ipython",
    "version": 3
   },
   "file_extension": ".py",
   "mimetype": "text/x-python",
   "name": "python",
   "nbconvert_exporter": "python",
   "pygments_lexer": "ipython3",
   "version": "3.8.5"
  }
 },
 "nbformat": 4,
 "nbformat_minor": 4
}
