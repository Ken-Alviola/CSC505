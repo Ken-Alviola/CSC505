{
 "cells": [
  {
   "cell_type": "code",
   "execution_count": 1,
   "metadata": {
    "ExecuteTime": {
     "end_time": "2022-06-19T03:33:59.917320Z",
     "start_time": "2022-06-19T03:33:59.905757Z"
    }
   },
   "outputs": [],
   "source": [
    "import phtrs"
   ]
  },
  {
   "cell_type": "code",
   "execution_count": 2,
   "metadata": {
    "ExecuteTime": {
     "end_time": "2022-06-19T03:34:14.310962Z",
     "start_time": "2022-06-19T03:34:11.755754Z"
    }
   },
   "outputs": [
    {
     "name": "stdout",
     "output_type": "stream",
     "text": [
      "Welcome to the Pothole Tracking and Repair System\n",
      "-------------------------------------------------\n",
      "Please enter the ID number or press Enter to continue: 1\n",
      "\n",
      "ID number: 1\n",
      "Street : Hummingbird Lane\n",
      "Zip : 78251\n",
      "Size : 7\n",
      "Location : Inner\n",
      "\n",
      "This falls under district: 1\n",
      "Current priority is: Medium\n"
     ]
    }
   ],
   "source": [
    "phtrs.run_phtrs()"
   ]
  },
  {
   "cell_type": "code",
   "execution_count": 3,
   "metadata": {
    "ExecuteTime": {
     "end_time": "2022-06-19T03:34:25.786789Z",
     "start_time": "2022-06-19T03:34:24.717075Z"
    }
   },
   "outputs": [
    {
     "name": "stdout",
     "output_type": "stream",
     "text": [
      "Welcome to the Pothole Tracking and Repair System\n",
      "-------------------------------------------------\n",
      "Please enter the ID number or press Enter to continue: 2\n",
      "\n",
      "ID number: 2\n",
      "Street : Marzano Street\n",
      "Zip : 78259\n",
      "Size : 2\n",
      "Location : Outer\n",
      "\n",
      "This falls under district: 2\n",
      "Current priority is: Low\n"
     ]
    }
   ],
   "source": [
    "phtrs.run_phtrs()"
   ]
  },
  {
   "cell_type": "code",
   "execution_count": 4,
   "metadata": {
    "ExecuteTime": {
     "end_time": "2022-06-19T03:34:57.216618Z",
     "start_time": "2022-06-19T03:34:34.549039Z"
    }
   },
   "outputs": [
    {
     "name": "stdout",
     "output_type": "stream",
     "text": [
      "Welcome to the Pothole Tracking and Repair System\n",
      "-------------------------------------------------\n",
      "Please enter the ID number or press Enter to continue: \n",
      "\n",
      "Please enter the street: DeFranzo Loop\n",
      "Please enter the Zipcode: 78245\n",
      "Enter the size of the pothole (1-10): 9\n",
      "Enter the location (Inner,Mid,Outer): Mid\n",
      "\n",
      "ID number: 3\n",
      "Street : DeFranzo Loop\n",
      "Zip : 78245\n",
      "Size : 9\n",
      "Location : Mid\n",
      "\n",
      "This falls under district: 1\n",
      "Current priority is: High\n"
     ]
    }
   ],
   "source": [
    "phtrs.run_phtrs()"
   ]
  },
  {
   "cell_type": "code",
   "execution_count": null,
   "metadata": {},
   "outputs": [],
   "source": []
  }
 ],
 "metadata": {
  "kernelspec": {
   "display_name": "Python 3",
   "language": "python",
   "name": "python3"
  },
  "language_info": {
   "codemirror_mode": {
    "name": "ipython",
    "version": 3
   },
   "file_extension": ".py",
   "mimetype": "text/x-python",
   "name": "python",
   "nbconvert_exporter": "python",
   "pygments_lexer": "ipython3",
   "version": "3.8.5"
  }
 },
 "nbformat": 4,
 "nbformat_minor": 4
}
