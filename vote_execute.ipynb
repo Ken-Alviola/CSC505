{
 "cells": [
  {
   "cell_type": "code",
   "execution_count": 2,
   "metadata": {
    "ExecuteTime": {
     "end_time": "2022-05-28T03:55:37.760281Z",
     "start_time": "2022-05-28T03:55:37.754078Z"
    }
   },
   "outputs": [],
   "source": [
    "import vote"
   ]
  },
  {
   "cell_type": "code",
   "execution_count": 3,
   "metadata": {
    "ExecuteTime": {
     "end_time": "2022-05-28T03:55:53.773707Z",
     "start_time": "2022-05-28T03:55:48.340687Z"
    }
   },
   "outputs": [
    {
     "name": "stdout",
     "output_type": "stream",
     "text": [
      "Enter your username: admin\n",
      "Enter you password: 1234\n",
      "Do you wish to add a specification for voting? Type(y/n): n\n",
      "\n",
      "{1: '50fps', 2: '60fps', 3: '120fps'} \n",
      "\n",
      "Current vote count: \n",
      "50fps : 2 votes\n",
      "60fps : 0 votes\n",
      "120fps : 1 votes\n"
     ]
    }
   ],
   "source": [
    "vote.run_vote()"
   ]
  },
  {
   "cell_type": "code",
   "execution_count": 4,
   "metadata": {
    "ExecuteTime": {
     "end_time": "2022-05-28T03:56:41.341164Z",
     "start_time": "2022-05-28T03:56:26.814581Z"
    }
   },
   "outputs": [
    {
     "name": "stdout",
     "output_type": "stream",
     "text": [
      "Enter your username: user1\n",
      "Enter you password: oak\n",
      "Do you wish to add a specification for voting? Type(y/n): y\n",
      "Input new spec: 144fps\n",
      "\n",
      "{1: '50fps', 2: '60fps', 3: '120fps', 4: '144fps'} \n",
      "\n",
      "Type the number of the spec to cast your vote: 4\n",
      "\n",
      "You voted for spec 4: 144fps\n",
      "Thank you. Results will be announced in 48hrs\n"
     ]
    }
   ],
   "source": [
    "vote.run_vote()"
   ]
  },
  {
   "cell_type": "code",
   "execution_count": 5,
   "metadata": {
    "ExecuteTime": {
     "end_time": "2022-05-28T03:57:06.363664Z",
     "start_time": "2022-05-28T03:56:58.197207Z"
    }
   },
   "outputs": [
    {
     "name": "stdout",
     "output_type": "stream",
     "text": [
      "Enter your username: admin\n",
      "Enter you password: 1234\n",
      "Do you wish to add a specification for voting? Type(y/n): n\n",
      "\n",
      "{1: '50fps', 2: '60fps', 3: '120fps', 4: '144fps'} \n",
      "\n",
      "Current vote count: \n",
      "50fps : 2 votes\n",
      "60fps : 0 votes\n",
      "120fps : 1 votes\n",
      "144fps : 1 votes\n"
     ]
    }
   ],
   "source": [
    "vote.run_vote()"
   ]
  },
  {
   "cell_type": "code",
   "execution_count": 6,
   "metadata": {
    "ExecuteTime": {
     "end_time": "2022-05-28T03:57:31.369749Z",
     "start_time": "2022-05-28T03:57:19.052442Z"
    }
   },
   "outputs": [
    {
     "name": "stdout",
     "output_type": "stream",
     "text": [
      "Enter your username: user2\n",
      "Enter you password: cherry\n",
      "Unauthorized user\n"
     ]
    }
   ],
   "source": [
    "vote.run_vote()"
   ]
  },
  {
   "cell_type": "code",
   "execution_count": null,
   "metadata": {},
   "outputs": [],
   "source": []
  }
 ],
 "metadata": {
  "kernelspec": {
   "display_name": "Python 3",
   "language": "python",
   "name": "python3"
  },
  "language_info": {
   "codemirror_mode": {
    "name": "ipython",
    "version": 3
   },
   "file_extension": ".py",
   "mimetype": "text/x-python",
   "name": "python",
   "nbconvert_exporter": "python",
   "pygments_lexer": "ipython3",
   "version": "3.8.5"
  }
 },
 "nbformat": 4,
 "nbformat_minor": 4
}
