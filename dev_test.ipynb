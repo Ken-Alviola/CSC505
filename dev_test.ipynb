{
 "cells": [
  {
   "cell_type": "code",
   "execution_count": 71,
   "metadata": {
    "ExecuteTime": {
     "end_time": "2022-06-10T02:32:41.084254Z",
     "start_time": "2022-06-10T02:32:41.079323Z"
    }
   },
   "outputs": [],
   "source": [
    "trait_dict = {1: 'Individual Responsibility',\n",
    "              2: 'Acute Awareness',\n",
    "              3: 'Brutal Honesty',\n",
    "              4: 'Resilience under pressure',\n",
    "              5: 'Sense of Fairness',\n",
    "              6: 'Attention to detail',\n",
    "              7: 'Pragmatism'\n",
    "              }"
   ]
  },
  {
   "cell_type": "code",
   "execution_count": 184,
   "metadata": {
    "ExecuteTime": {
     "end_time": "2022-06-10T08:42:49.627175Z",
     "start_time": "2022-06-10T08:42:49.622399Z"
    }
   },
   "outputs": [],
   "source": [
    "#preset\n",
    "trait_counterdict = {'Individual Responsibility': 2,\n",
    "                     'Acute Awareness': 1,\n",
    "                     'Brutal Honesty': 3,\n",
    "                     'Resilience under pressure': 1,\n",
    "                     'Sense of Fairness': 2,\n",
    "                     'Attention to detail': 4,\n",
    "                     'Pragmatism': 2\n",
    "                     }"
   ]
  },
  {
   "cell_type": "code",
   "execution_count": 80,
   "metadata": {
    "ExecuteTime": {
     "end_time": "2022-06-10T02:49:10.586253Z",
     "start_time": "2022-06-10T02:49:10.562138Z"
    }
   },
   "outputs": [
    {
     "data": {
      "text/plain": [
       "'Individual Responsibility'"
      ]
     },
     "execution_count": 80,
     "metadata": {},
     "output_type": "execute_result"
    }
   ],
   "source": [
    "trait_dict[1]"
   ]
  },
  {
   "cell_type": "code",
   "execution_count": 78,
   "metadata": {
    "ExecuteTime": {
     "end_time": "2022-06-10T02:35:30.265016Z",
     "start_time": "2022-06-10T02:35:30.260471Z"
    }
   },
   "outputs": [],
   "source": [
    "sorted_dict = {k: v for k, v in sorted(\n",
    "                    counter_dict.items(), key=lambda item: item[1], reverse=True)}"
   ]
  },
  {
   "cell_type": "code",
   "execution_count": 70,
   "metadata": {
    "ExecuteTime": {
     "end_time": "2022-06-10T02:28:30.193410Z",
     "start_time": "2022-06-10T02:28:30.186294Z"
    }
   },
   "outputs": [
    {
     "data": {
      "text/plain": [
       "[{'Individual Responsibility': 1},\n",
       " {'Acute Awareness': 0},\n",
       " {'Brutal Honesty': 0},\n",
       " {'Resilience under pressure': 0},\n",
       " {'Sense of Fairness': 0},\n",
       " {'Attention to detail': 0},\n",
       " {'Pragmatism': 0}]"
      ]
     },
     "execution_count": 70,
     "metadata": {},
     "output_type": "execute_result"
    }
   ],
   "source": [
    "[x[1] for x in list(trait_dict.items())]"
   ]
  },
  {
   "cell_type": "code",
   "execution_count": 81,
   "metadata": {
    "ExecuteTime": {
     "end_time": "2022-06-10T02:55:13.843211Z",
     "start_time": "2022-06-10T02:55:10.895681Z"
    }
   },
   "outputs": [
    {
     "name": "stdout",
     "output_type": "stream",
     "text": [
      "Input the number of your 1st selection: 1\n",
      "Input the number of your 2nd selection: 2\n",
      "Input the number of your 3rd selection: 3\n"
     ]
    }
   ],
   "source": [
    "choice_num1 = int(input('Input the number of your 1st selection: '))\n",
    "choice_num2 = int(input('Input the number of your 2nd selection: '))\n",
    "choice_num3 = int(input('Input the number of your 3rd selection: '))"
   ]
  },
  {
   "cell_type": "code",
   "execution_count": 86,
   "metadata": {
    "ExecuteTime": {
     "end_time": "2022-06-10T03:01:56.613072Z",
     "start_time": "2022-06-10T03:01:56.606818Z"
    }
   },
   "outputs": [
    {
     "name": "stdout",
     "output_type": "stream",
     "text": [
      "You chose: Individual Responsibility, Acute Awareness,and Brutal Honesty\n"
     ]
    }
   ],
   "source": [
    "print(f'You chose: {trait_dict[choice_num1]}, {trait_dict[choice_num2]},and {trait_dict[choice_num3]}')"
   ]
  },
  {
   "cell_type": "code",
   "execution_count": 99,
   "metadata": {
    "ExecuteTime": {
     "end_time": "2022-06-10T03:07:36.383360Z",
     "start_time": "2022-06-10T03:07:36.378524Z"
    }
   },
   "outputs": [],
   "source": [
    "trait_counterdict[trait_dict[choice_num1]] += 1\n",
    "trait_counterdict[trait_dict[choice_num2]] += 1\n",
    "trait_counterdict[trait_dict[choice_num3]] += 1"
   ]
  },
  {
   "cell_type": "code",
   "execution_count": 100,
   "metadata": {
    "ExecuteTime": {
     "end_time": "2022-06-10T03:07:37.202692Z",
     "start_time": "2022-06-10T03:07:37.195532Z"
    }
   },
   "outputs": [
    {
     "data": {
      "text/plain": [
       "{'Individual Responsibility': 2,\n",
       " 'Acute Awareness': 1,\n",
       " 'Brutal Honesty': 1,\n",
       " 'Resilience under pressure': 0,\n",
       " 'Sense of Fairness': 0,\n",
       " 'Attention to detail': 0,\n",
       " 'Pragmatism': 0}"
      ]
     },
     "execution_count": 100,
     "metadata": {},
     "output_type": "execute_result"
    }
   ],
   "source": [
    "trait_counterdict"
   ]
  },
  {
   "cell_type": "code",
   "execution_count": 180,
   "metadata": {
    "ExecuteTime": {
     "end_time": "2022-06-10T08:40:05.460892Z",
     "start_time": "2022-06-10T08:40:05.454730Z"
    }
   },
   "outputs": [],
   "source": [
    "def sort_and_rank():\n",
    "    sorted_dict = {k: v for k, v in sorted(\n",
    "                    trait_counterdict.items(), key=lambda item: item[1], reverse=True)}\n",
    "    count = 0\n",
    "    print('Current Ranking:')\n",
    "    print('-----------------------------------')\n",
    "    for x in sorted_dict:\n",
    "        count += 1\n",
    "        print(count, x, ':', sorted_dict[x])\n",
    "    print()"
   ]
  },
  {
   "cell_type": "code",
   "execution_count": 176,
   "metadata": {
    "ExecuteTime": {
     "end_time": "2022-06-10T08:37:42.382628Z",
     "start_time": "2022-06-10T08:37:42.371871Z"
    }
   },
   "outputs": [],
   "source": [
    "def choices():\n",
    "    print('These are Pressman & Maxim\\'s (2020) 7 characteristics of a \\\"superprofessional\\\" developer: ')\n",
    "    print('-----------------------------------')\n",
    "    for x in trait_dict:\n",
    "        print(x, trait_dict[x])\n",
    "    \n",
    "    print()\n",
    "    print('*Choose your top 3 characteristics: ')\n",
    "    print('-----------------------------------')\n",
    "    \n",
    "    choice_num1 = int(input('Input the number of your 1st selection: '))\n",
    "    choice_num2 = int(input('Input the number of your 2nd selection: '))\n",
    "    choice_num3 = int(input('Input the number of your 3rd selection: '))\n",
    "    \n",
    "    trait_counterdict[trait_dict[choice_num1]] += 1\n",
    "    trait_counterdict[trait_dict[choice_num2]] += 1\n",
    "    trait_counterdict[trait_dict[choice_num3]] += 1\n",
    "    \n",
    "    print()\n",
    "    print(f'You chose: {trait_dict[choice_num1]}, {trait_dict[choice_num2]},and {trait_dict[choice_num3]}.')\n",
    "    print()\n",
    "    \n",
    "   "
   ]
  },
  {
   "cell_type": "code",
   "execution_count": 178,
   "metadata": {
    "ExecuteTime": {
     "end_time": "2022-06-10T08:37:48.334782Z",
     "start_time": "2022-06-10T08:37:48.330094Z"
    }
   },
   "outputs": [],
   "source": [
    "def survey():\n",
    "    choices()\n",
    "    sort_and_rank()"
   ]
  },
  {
   "cell_type": "code",
   "execution_count": 182,
   "metadata": {
    "ExecuteTime": {
     "end_time": "2022-06-10T08:42:00.709629Z",
     "start_time": "2022-06-10T08:41:51.328212Z"
    }
   },
   "outputs": [
    {
     "name": "stdout",
     "output_type": "stream",
     "text": [
      "These are Pressman & Maxim's (2020) 7 characteristics of a \"superprofessional\" developer: \n",
      "-----------------------------------\n",
      "1 Individual Responsibility\n",
      "2 Acute Awareness\n",
      "3 Brutal Honesty\n",
      "4 Resilience under pressure\n",
      "5 Sense of Fairness\n",
      "6 Attention to detail\n",
      "7 Pragmatism\n",
      "\n",
      "*Choose your top 3 characteristics: \n",
      "-----------------------------------\n",
      "Input the number of your 1st selection: 3\n",
      "Input the number of your 2nd selection: 6\n",
      "Input the number of your 3rd selection: 7\n",
      "\n",
      "You chose: Brutal Honesty, Attention to detail,and Pragmatism.\n",
      "\n",
      "Current Ranking:\n",
      "-----------------------------------\n",
      "1 Attention to detail : 4\n",
      "2 Brutal Honesty : 3\n",
      "3 Individual Responsibility : 2\n",
      "4 Sense of Fairness : 2\n",
      "5 Pragmatism : 2\n",
      "6 Acute Awareness : 1\n",
      "7 Resilience under pressure : 1\n",
      "\n"
     ]
    }
   ],
   "source": [
    "survey()"
   ]
  },
  {
   "cell_type": "code",
   "execution_count": 141,
   "metadata": {
    "ExecuteTime": {
     "end_time": "2022-06-10T03:23:56.988590Z",
     "start_time": "2022-06-10T03:23:56.982545Z"
    }
   },
   "outputs": [
    {
     "name": "stdout",
     "output_type": "stream",
     "text": [
      "1 Individual Responsibility\n",
      "2 Acute Awareness\n",
      "3 Brutal Honesty\n",
      "4 Resilience under pressure\n",
      "5 Sense of Fairness\n",
      "6 Attention to detail\n",
      "7 Pragmatism\n"
     ]
    }
   ],
   "source": [
    "\n",
    "for x in trait_dict:\n",
    "    print(x, trait_dict[x])"
   ]
  },
  {
   "cell_type": "code",
   "execution_count": 183,
   "metadata": {
    "ExecuteTime": {
     "end_time": "2022-06-10T08:42:14.941715Z",
     "start_time": "2022-06-10T08:42:14.934039Z"
    }
   },
   "outputs": [
    {
     "data": {
      "text/plain": [
       "{'Individual Responsibility': 2,\n",
       " 'Acute Awareness': 1,\n",
       " 'Brutal Honesty': 3,\n",
       " 'Resilience under pressure': 1,\n",
       " 'Sense of Fairness': 2,\n",
       " 'Attention to detail': 4,\n",
       " 'Pragmatism': 2}"
      ]
     },
     "execution_count": 183,
     "metadata": {},
     "output_type": "execute_result"
    }
   ],
   "source": [
    "trait_counterdict\n"
   ]
  },
  {
   "cell_type": "markdown",
   "metadata": {},
   "source": []
  }
 ],
 "metadata": {
  "kernelspec": {
   "display_name": "Python 3",
   "language": "python",
   "name": "python3"
  },
  "language_info": {
   "codemirror_mode": {
    "name": "ipython",
    "version": 3
   },
   "file_extension": ".py",
   "mimetype": "text/x-python",
   "name": "python",
   "nbconvert_exporter": "python",
   "pygments_lexer": "ipython3",
   "version": "3.8.5"
  }
 },
 "nbformat": 4,
 "nbformat_minor": 4
}
