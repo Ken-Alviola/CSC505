{
 "cells": [
  {
   "cell_type": "code",
   "execution_count": 71,
   "metadata": {
    "ExecuteTime": {
     "end_time": "2022-06-10T02:32:41.084254Z",
     "start_time": "2022-06-10T02:32:41.079323Z"
    }
   },
   "outputs": [],
   "source": [
    "trait_dict = {1: 'Individual Responsibility',\n",
    "              2: 'Acute Awareness',\n",
    "              3: 'Brutal Honesty',\n",
    "              4: 'Resilience under pressure',\n",
    "              5: 'Sense of Fairness',\n",
    "              6: 'Attention to detail',\n",
    "              7: 'Pragmatism'\n",
    "              }"
   ]
  },
  {
   "cell_type": "code",
   "execution_count": 75,
   "metadata": {
    "ExecuteTime": {
     "end_time": "2022-06-10T02:34:38.970099Z",
     "start_time": "2022-06-10T02:34:38.965650Z"
    }
   },
   "outputs": [],
   "source": [
    "counter_dict = {'Individual Responsibility': 0,\n",
    "                'Acute Awareness': 0,\n",
    "                'Brutal Honesty': 0,\n",
    "                'Resilience under pressure': 0,\n",
    "                'Sense of Fairness': 0,\n",
    "                'Attention to detail': 0,\n",
    "                'Pragmatism': 0\n",
    "                }"
   ]
  },
  {
   "cell_type": "code",
   "execution_count": 80,
   "metadata": {
    "ExecuteTime": {
     "end_time": "2022-06-10T02:49:10.586253Z",
     "start_time": "2022-06-10T02:49:10.562138Z"
    }
   },
   "outputs": [
    {
     "data": {
      "text/plain": [
       "'Individual Responsibility'"
      ]
     },
     "execution_count": 80,
     "metadata": {},
     "output_type": "execute_result"
    }
   ],
   "source": [
    "trait_dict[1]"
   ]
  },
  {
   "cell_type": "code",
   "execution_count": 78,
   "metadata": {
    "ExecuteTime": {
     "end_time": "2022-06-10T02:35:30.265016Z",
     "start_time": "2022-06-10T02:35:30.260471Z"
    }
   },
   "outputs": [],
   "source": [
    "sorted_dict = {k: v for k, v in sorted(\n",
    "                    counter_dict.items(), key=lambda item: item[1], reverse=True)}"
   ]
  },
  {
   "cell_type": "code",
   "execution_count": 70,
   "metadata": {
    "ExecuteTime": {
     "end_time": "2022-06-10T02:28:30.193410Z",
     "start_time": "2022-06-10T02:28:30.186294Z"
    }
   },
   "outputs": [
    {
     "data": {
      "text/plain": [
       "[{'Individual Responsibility': 1},\n",
       " {'Acute Awareness': 0},\n",
       " {'Brutal Honesty': 0},\n",
       " {'Resilience under pressure': 0},\n",
       " {'Sense of Fairness': 0},\n",
       " {'Attention to detail': 0},\n",
       " {'Pragmatism': 0}]"
      ]
     },
     "execution_count": 70,
     "metadata": {},
     "output_type": "execute_result"
    }
   ],
   "source": [
    "[x[1] for x in list(trait_dict.items())]"
   ]
  },
  {
   "cell_type": "code",
   "execution_count": 81,
   "metadata": {
    "ExecuteTime": {
     "end_time": "2022-06-10T02:55:13.843211Z",
     "start_time": "2022-06-10T02:55:10.895681Z"
    }
   },
   "outputs": [
    {
     "name": "stdout",
     "output_type": "stream",
     "text": [
      "Input the number of your 1st selection: 1\n",
      "Input the number of your 2nd selection: 2\n",
      "Input the number of your 3rd selection: 3\n"
     ]
    }
   ],
   "source": [
    "choice_num1 = int(input('Input the number of your 1st selection: '))\n",
    "choice_num2 = int(input('Input the number of your 2nd selection: '))\n",
    "choice_num3 = int(input('Input the number of your 3rd selection: '))"
   ]
  },
  {
   "cell_type": "code",
   "execution_count": null,
   "metadata": {},
   "outputs": [],
   "source": []
  }
 ],
 "metadata": {
  "kernelspec": {
   "display_name": "Python 3",
   "language": "python",
   "name": "python3"
  },
  "language_info": {
   "codemirror_mode": {
    "name": "ipython",
    "version": 3
   },
   "file_extension": ".py",
   "mimetype": "text/x-python",
   "name": "python",
   "nbconvert_exporter": "python",
   "pygments_lexer": "ipython3",
   "version": "3.8.5"
  }
 },
 "nbformat": 4,
 "nbformat_minor": 4
}
