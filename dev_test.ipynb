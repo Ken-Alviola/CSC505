{
 "cells": [
  {
   "cell_type": "code",
   "execution_count": 1,
   "metadata": {
    "ExecuteTime": {
     "end_time": "2022-06-10T01:59:17.252402Z",
     "start_time": "2022-06-10T01:59:17.239247Z"
    }
   },
   "outputs": [],
   "source": [
    "trait_dict = {'1':{'Individual Responsibility': 0},\n",
    "              '2':{'Acute Awareness': 0},\n",
    "              '3':{'Brutal Honesty': 0},\n",
    "              '4':{'Resilience under pressure': 0},\n",
    "              '5':{'Sense of Fairness': 0},\n",
    "              '6':{'Attention to detail': 0},\n",
    "              '7':{'Pragmatism': 0}\n",
    "             }\n"
   ]
  },
  {
   "cell_type": "code",
   "execution_count": 36,
   "metadata": {
    "ExecuteTime": {
     "end_time": "2022-06-10T02:09:29.680999Z",
     "start_time": "2022-06-10T02:09:29.673016Z"
    }
   },
   "outputs": [],
   "source": [
    "trait_dict['1'][list(trait_dict['1'].keys())[0]] += 1"
   ]
  },
  {
   "cell_type": "code",
   "execution_count": 37,
   "metadata": {
    "ExecuteTime": {
     "end_time": "2022-06-10T02:09:34.474673Z",
     "start_time": "2022-06-10T02:09:34.467123Z"
    }
   },
   "outputs": [
    {
     "data": {
      "text/plain": [
       "{'1': {'Individual Responsibility': 1},\n",
       " '2': {'Acute Awareness': 0},\n",
       " '3': {'Brutal Honesty': 0},\n",
       " '4': {'Resilience under pressure': 0},\n",
       " '5': {'Sense of Fairness': 0},\n",
       " '6': {'Attention to detail': 0},\n",
       " '7': {'Pragmatism': 0}}"
      ]
     },
     "execution_count": 37,
     "metadata": {},
     "output_type": "execute_result"
    }
   ],
   "source": [
    "trait_dict"
   ]
  },
  {
   "cell_type": "code",
   "execution_count": null,
   "metadata": {},
   "outputs": [],
   "source": []
  }
 ],
 "metadata": {
  "kernelspec": {
   "display_name": "Python 3",
   "language": "python",
   "name": "python3"
  },
  "language_info": {
   "codemirror_mode": {
    "name": "ipython",
    "version": 3
   },
   "file_extension": ".py",
   "mimetype": "text/x-python",
   "name": "python",
   "nbconvert_exporter": "python",
   "pygments_lexer": "ipython3",
   "version": "3.8.5"
  }
 },
 "nbformat": 4,
 "nbformat_minor": 4
}
